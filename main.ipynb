{
 "cells": [
  {
   "cell_type": "code",
   "execution_count": 126,
   "metadata": {},
   "outputs": [],
   "source": [
    "import pandas as pd\n",
    "from os import listdir\n",
    "from os.path import isfile, join\n",
    "import numpy as np\n",
    "from datetime import timedelta"
   ]
  },
  {
   "cell_type": "code",
   "execution_count": 117,
   "metadata": {},
   "outputs": [
    {
     "name": "stdout",
     "output_type": "stream",
     "text": [
      "Start read dow file...\n",
      "Finish read dow file.\n",
      "---------------------\n",
      "Start read etf file...\n",
      "Finish read etf file.\n"
     ]
    }
   ],
   "source": [
    "# get data in desirved format\n",
    "dow_files_addr = \"./Data/Dow_30_1_min/\"\n",
    "etf_files_addr = \"./Data/50_ETFs_1min/\"\n",
    "\n",
    "dow_files_names = [f for f in listdir(dow_files_addr)]\n",
    "etf_files_names = [f for f in listdir(etf_files_addr)]\n",
    "\n",
    "dow_names = [f.split(\".\")[0] for f in dow_files_names]\n",
    "etf_names = [f.split(\".\")[0] for f in etf_files_names]\n",
    "\n",
    "dow_dfs = []\n",
    "etf_dfs = []\n",
    "headers = [\"date\", \"time\", \"open_price\", \"close_price\", \"highest_price\", \"lowest_price\", \"volumn\"]\n",
    "dtypes={\"date\": \"str\", \n",
    "    \"time\":\"str\",\n",
    "    \"open_price\": \"float\", \n",
    "    \"highest_price\": \"float\",\n",
    "    \"lowest_price\": \"float\", \n",
    "    \"close_price\": \"float\",\n",
    "    \"volumn\": \"int\"}\n",
    "\n",
    "print(\"Start read dow file...\")\n",
    "for dow_name in dow_files_names:\n",
    "    df = pd.read_csv(dow_files_addr + dow_name, sep=\",\",names=headers,dtype=dtypes, header=None)\n",
    "    df[\"datetime\"] = df[\"date\"] + \" \" + df[\"time\"]\n",
    "    df[\"datetime\"] = pd.to_datetime(df[\"datetime\"], format=\"%m/%d/%Y %H:%M\")\n",
    "    df[\"hour\"] = df[\"time\"].str.split(\":\", expand=True)[0].astype(int)\n",
    "    df[\"minute\"] = df[\"time\"].str.split(\":\", expand=True)[1].astype(int)\n",
    "    df = df.sort_values(by=[\"datetime\"])\n",
    "    df.drop(columns=[\"date\"])\n",
    "    df.drop(columns=[\"time\"])\n",
    "    dow_dfs.append(df)\n",
    "print(\"Finish read dow file.\")\n",
    "print(\"---------------------\")\n",
    "print(\"Start read etf file...\")\n",
    "for etf_name in etf_files_names:\n",
    "    df = pd.read_csv(etf_files_addr + etf_name, sep=\",\",names=headers,dtype=dtypes, header=None)\n",
    "    df[\"datetime\"] = df[\"date\"] + \" \" + df[\"time\"]\n",
    "    df[\"datetime\"] = pd.to_datetime(df[\"datetime\"], format=\"%m/%d/%Y %H:%M\")\n",
    "    df[\"hour\"] = df[\"time\"].str.split(\":\", expand=True)[0].astype(int)\n",
    "    df[\"minute\"] = df[\"time\"].str.split(\":\", expand=True)[1].astype(int)\n",
    "    df = df.sort_values(by=[\"datetime\"])\n",
    "    df.drop(columns=[\"date\"])\n",
    "    df.drop(columns=[\"time\"])\n",
    "    etf_dfs.append(df)\n",
    "print(\"Finish read etf file.\")"
   ]
  },
  {
   "cell_type": "code",
   "execution_count": 118,
   "metadata": {
    "scrolled": false
   },
   "outputs": [
    {
     "name": "stdout",
     "output_type": "stream",
     "text": [
      "Start check dow date...\n",
      "start GM.txt\n",
      "2010-11-18 09:36:00\n",
      "end GM.txt\n",
      "2020-06-05 19:44:00\n",
      "Finish check dow date...\n",
      "---------------------\n",
      "Start check etf date...\n",
      "start AAPL.txt\n",
      "2003-04-14 09:32:00\n",
      "end AAPL.txt\n",
      "2020-06-05 19:41:00\n",
      "end AIG.txt\n",
      "2020-06-05 17:38:00\n",
      "start AXP.txt\n",
      "2008-11-19 09:30:00\n",
      "start T.txt\n",
      "2009-06-25 09:40:00\n",
      "Finish check etf date...\n"
     ]
    }
   ],
   "source": [
    "# get start and end for both dow and etf that cove evey df\n",
    "\n",
    "dow_time_slice = [min(dow_dfs[0][\"datetime\"]), max(dow_dfs[0][\"datetime\"])]\n",
    "etf_time_slice = [min(etf_dfs[0][\"datetime\"]), max(etf_dfs[0][\"datetime\"])]\n",
    "\n",
    "print(\"Start check dow date...\")\n",
    "i = 0\n",
    "for df in dow_dfs:\n",
    "    start = min(df[\"datetime\"])\n",
    "    if start > dow_time_slice[0]:\n",
    "        print(\"start\", dow_files_names[i])\n",
    "        print(start)\n",
    "        dow_time_slice[0] = start\n",
    "    end = max(df[\"datetime\"])\n",
    "    if end < dow_time_slice[1]:\n",
    "        print(\"end\", dow_files_names[i])\n",
    "        print(end)\n",
    "        dow_time_slice[1] = end\n",
    "    i += 1\n",
    "print(\"Finish check dow date...\")\n",
    "print(\"---------------------\")\n",
    "print(\"Start check etf date...\")\n",
    "i = 0\n",
    "for df in etf_dfs:\n",
    "    start = min(df[\"datetime\"])\n",
    "    if start > etf_time_slice[0]:\n",
    "        print(\"start\", dow_files_names[i])\n",
    "        print(start)\n",
    "        etf_time_slice[0] = start\n",
    "    end = max(df[\"datetime\"])\n",
    "    if end < etf_time_slice[1]:\n",
    "        print(\"end\", dow_files_names[i])\n",
    "        print(end)\n",
    "        etf_time_slice[1] = end\n",
    "    i += 1\n",
    "print(\"Finish check etf date...\")"
   ]
  },
  {
   "cell_type": "code",
   "execution_count": 119,
   "metadata": {},
   "outputs": [],
   "source": [
    "# limit all of the df to the same time frames\n",
    "for i in range(len(dow_dfs)):\n",
    "    dow_dfs[i] = dow_dfs[i].loc[(dow_dfs[i][\"datetime\"] >= dow_time_slice[0]) & (dow_dfs[i][\"datetime\"] <= dow_time_slice[1])]\n",
    "for i in range(len(etf_dfs)):\n",
    "    etf_dfs[i] = etf_dfs[i].loc[(etf_dfs[i][\"datetime\"] >= etf_time_slice[0]) & (etf_dfs[i][\"datetime\"] <= etf_time_slice[1])]"
   ]
  },
  {
   "cell_type": "code",
   "execution_count": 62,
   "metadata": {},
   "outputs": [],
   "source": [
    "# fill in the missing minutes\n",
    "for i in range(len(dow_dfs)):\n",
    "    cur_open_price = dow_dfs[i].iloc[0][\"open_price\"]\n",
    "    cur_close_price = dow_dfs[i].iloc[0][\"close_price\"]\n",
    "    cur_highest_price = dow_dfs[i].iloc[0][\"highest_price\"]  \n",
    "    cur_lowest_price = dow_dfs[i].iloc[0][\"lowest_price\"]\n",
    "    # cur_volumn = dow_dfs[i].iloc[0][\"volumn\"]\n",
    "    \n",
    "    start_time = dow_time_slice[0]\n",
    "    end_time = dow_time_slice[1]\n",
    "    cur_time = start_time\n",
    "    \n",
    "    df = pd.DataFrame(columns=[\"open_price\", \"close_price\", \"highest_price\", \"lowest_price\", \"volumn\", \"datetime\", \"hour\", \"minute\"])\n",
    "    while cur_time < end_time:\n",
    "        # if exist\n",
    "        if cur_time in pd.DatetimeIndex(dow_dfs[i][\"datetime\"]):\n",
    "            i = pd.DatetimeIndex(dow_dfs[i][\"datetime\"]).to_numpy().tolist().index(cur_time.to_numpy().tolist())\n",
    "            df = df.append(df.iloc[i], ignore_index=True)\n",
    "            cur_open_price = dow_dfs[i].iloc[i][\"open_price\"]\n",
    "            cur_close_price = dow_dfs[i].iloc[i][\"close_price\"]    \n",
    "            cur_lowest_price = dow_dfs[i].iloc[i][\"lowest_price\"]\n",
    "            # cur_volumn = dow_dfs[i].iloc[i][\"volumn\"]\n",
    "        # if not exist\n",
    "        else:\n",
    "            pd.DataFrame(np.array([[cur_open_price, cur_close_price, cur_highest_price, cur_lowest_price, 0, cur_time, \n",
    "                                    dow_time_slice[0].to_pydatetime().hour, dow_time_slice[0].to_pydatetime().minute]]))\n",
    "        # update time\n",
    "        cur_time += timedelta(minutes=1)\n",
    "        if cur_time.to_pydatetime().hour >= 6 and cur_time.to_pydatetime().minute != 0:\n",
    "            cur_time += timedelta(days=1)\n",
    "            cur_time.replace(hour=9, minute=0)"
   ]
  },
  {
   "cell_type": "code",
   "execution_count": 122,
   "metadata": {
    "scrolled": true
   },
   "outputs": [
    {
     "data": {
      "text/plain": [
       "pandas._libs.tslibs.timestamps.Timestamp"
      ]
     },
     "execution_count": 122,
     "metadata": {},
     "output_type": "execute_result"
    }
   ],
   "source": [
    "type(dow_time_slice[0])"
   ]
  },
  {
   "cell_type": "code",
   "execution_count": 123,
   "metadata": {},
   "outputs": [],
   "source": [
    "t = dow_time_slice[0]"
   ]
  },
  {
   "cell_type": "code",
   "execution_count": 133,
   "metadata": {},
   "outputs": [
    {
     "data": {
      "text/plain": [
       "Timestamp('2010-11-19 13:36:00')"
      ]
     },
     "execution_count": 133,
     "metadata": {},
     "output_type": "execute_result"
    }
   ],
   "source": [
    "t"
   ]
  },
  {
   "cell_type": "code",
   "execution_count": 132,
   "metadata": {},
   "outputs": [],
   "source": [
    "t += timedelta(hours=28)"
   ]
  },
  {
   "cell_type": "code",
   "execution_count": 131,
   "metadata": {
    "scrolled": true
   },
   "outputs": [
    {
     "data": {
      "text/plain": [
       "Timestamp('2010-11-18 05:36:00')"
      ]
     },
     "execution_count": 131,
     "metadata": {},
     "output_type": "execute_result"
    }
   ],
   "source": [
    "t.replace(hour=5)"
   ]
  },
  {
   "cell_type": "code",
   "execution_count": 140,
   "metadata": {},
   "outputs": [
    {
     "data": {
      "text/plain": [
       "array([ 9, 10, 11, 12, 13, 14, 15, 16, 17, 18, 19,  6,  7,  8,  4,  5, 20,\n",
       "        3, 23, 21, 22,  0,  1])"
      ]
     },
     "execution_count": 140,
     "metadata": {},
     "output_type": "execute_result"
    }
   ],
   "source": [
    "etf_dfs[1][\"hour\"].unique()"
   ]
  },
  {
   "cell_type": "code",
   "execution_count": 116,
   "metadata": {},
   "outputs": [
    {
     "data": {
      "text/plain": [
       "2010"
      ]
     },
     "execution_count": 116,
     "metadata": {},
     "output_type": "execute_result"
    }
   ],
   "source": [
    "dow_time_slice[0].to_pydatetime().year"
   ]
  },
  {
   "cell_type": "code",
   "execution_count": 109,
   "metadata": {
    "scrolled": true
   },
   "outputs": [
    {
     "data": {
      "text/plain": [
       "0"
      ]
     },
     "execution_count": 109,
     "metadata": {},
     "output_type": "execute_result"
    }
   ],
   "source": [
    "pd.DatetimeIndex(df[\"datetime\"]).to_numpy().tolist().index(dow_time_slice[0].to_numpy().tolist())"
   ]
  },
  {
   "cell_type": "code",
   "execution_count": 96,
   "metadata": {},
   "outputs": [
    {
     "data": {
      "text/plain": [
       "Timestamp('2010-11-18 09:36:00')"
      ]
     },
     "execution_count": 96,
     "metadata": {},
     "output_type": "execute_result"
    }
   ],
   "source": [
    "df.iloc[0][\"datetime\"]"
   ]
  },
  {
   "cell_type": "code",
   "execution_count": 93,
   "metadata": {},
   "outputs": [],
   "source": [
    "df = dow_dfs[0]"
   ]
  },
  {
   "cell_type": "code",
   "execution_count": 98,
   "metadata": {
    "scrolled": false
   },
   "outputs": [],
   "source": [
    "tmp = pd.DataFrame(columns=[\"date\", \"time\", \"open_price\", \"close_price\", \"highest_price\", \"lowest_price\", \"volumn\", \"datetime\", \"hour\", \"minute\"])"
   ]
  },
  {
   "cell_type": "code",
   "execution_count": 100,
   "metadata": {
    "scrolled": true
   },
   "outputs": [
    {
     "data": {
      "text/html": [
       "<div>\n",
       "<style scoped>\n",
       "    .dataframe tbody tr th:only-of-type {\n",
       "        vertical-align: middle;\n",
       "    }\n",
       "\n",
       "    .dataframe tbody tr th {\n",
       "        vertical-align: top;\n",
       "    }\n",
       "\n",
       "    .dataframe thead th {\n",
       "        text-align: right;\n",
       "    }\n",
       "</style>\n",
       "<table border=\"1\" class=\"dataframe\">\n",
       "  <thead>\n",
       "    <tr style=\"text-align: right;\">\n",
       "      <th></th>\n",
       "      <th>date</th>\n",
       "      <th>time</th>\n",
       "      <th>open_price</th>\n",
       "      <th>close_price</th>\n",
       "      <th>highest_price</th>\n",
       "      <th>lowest_price</th>\n",
       "      <th>volumn</th>\n",
       "      <th>datetime</th>\n",
       "      <th>hour</th>\n",
       "      <th>minute</th>\n",
       "    </tr>\n",
       "  </thead>\n",
       "  <tbody>\n",
       "  </tbody>\n",
       "</table>\n",
       "</div>"
      ],
      "text/plain": [
       "Empty DataFrame\n",
       "Columns: [date, time, open_price, close_price, highest_price, lowest_price, volumn, datetime, hour, minute]\n",
       "Index: []"
      ]
     },
     "execution_count": 100,
     "metadata": {},
     "output_type": "execute_result"
    }
   ],
   "source": [
    "tmp"
   ]
  },
  {
   "cell_type": "code",
   "execution_count": 106,
   "metadata": {
    "scrolled": true
   },
   "outputs": [],
   "source": [
    "tmp = tmp.append(df.iloc[0], ignore_index=True)"
   ]
  },
  {
   "cell_type": "code",
   "execution_count": 107,
   "metadata": {},
   "outputs": [
    {
     "data": {
      "text/html": [
       "<div>\n",
       "<style scoped>\n",
       "    .dataframe tbody tr th:only-of-type {\n",
       "        vertical-align: middle;\n",
       "    }\n",
       "\n",
       "    .dataframe tbody tr th {\n",
       "        vertical-align: top;\n",
       "    }\n",
       "\n",
       "    .dataframe thead th {\n",
       "        text-align: right;\n",
       "    }\n",
       "</style>\n",
       "<table border=\"1\" class=\"dataframe\">\n",
       "  <thead>\n",
       "    <tr style=\"text-align: right;\">\n",
       "      <th></th>\n",
       "      <th>date</th>\n",
       "      <th>time</th>\n",
       "      <th>open_price</th>\n",
       "      <th>close_price</th>\n",
       "      <th>highest_price</th>\n",
       "      <th>lowest_price</th>\n",
       "      <th>volumn</th>\n",
       "      <th>datetime</th>\n",
       "      <th>hour</th>\n",
       "      <th>minute</th>\n",
       "    </tr>\n",
       "  </thead>\n",
       "  <tbody>\n",
       "    <tr>\n",
       "      <th>0</th>\n",
       "      <td>11/18/2010</td>\n",
       "      <td>09:36</td>\n",
       "      <td>29.85</td>\n",
       "      <td>29.87</td>\n",
       "      <td>29.84</td>\n",
       "      <td>29.85</td>\n",
       "      <td>169113</td>\n",
       "      <td>2010-11-18 09:36:00</td>\n",
       "      <td>9</td>\n",
       "      <td>36</td>\n",
       "    </tr>\n",
       "  </tbody>\n",
       "</table>\n",
       "</div>"
      ],
      "text/plain": [
       "         date   time  open_price  close_price  highest_price  lowest_price  \\\n",
       "0  11/18/2010  09:36       29.85        29.87          29.84         29.85   \n",
       "\n",
       "   volumn            datetime hour minute  \n",
       "0  169113 2010-11-18 09:36:00    9     36  "
      ]
     },
     "execution_count": 107,
     "metadata": {},
     "output_type": "execute_result"
    }
   ],
   "source": [
    "tmp"
   ]
  },
  {
   "cell_type": "code",
   "execution_count": 80,
   "metadata": {},
   "outputs": [
    {
     "data": {
      "text/plain": [
       "True"
      ]
     },
     "execution_count": 80,
     "metadata": {},
     "output_type": "execute_result"
    }
   ],
   "source": [
    "dow_time_slice[0] in pd.DatetimeIndex(df[\"datetime\"])"
   ]
  },
  {
   "cell_type": "code",
   "execution_count": 83,
   "metadata": {},
   "outputs": [
    {
     "data": {
      "text/plain": [
       "numpy.datetime64('2010-11-18T09:36:00.000000000')"
      ]
     },
     "execution_count": 83,
     "metadata": {},
     "output_type": "execute_result"
    }
   ],
   "source": [
    "dow_time_slice[0].to_numpy()"
   ]
  },
  {
   "cell_type": "code",
   "execution_count": 86,
   "metadata": {},
   "outputs": [
    {
     "data": {
      "text/plain": [
       "1052569"
      ]
     },
     "execution_count": 86,
     "metadata": {},
     "output_type": "execute_result"
    }
   ],
   "source": [
    "pd.DatetimeIndex(df[\"datetime\"]).to_numpy().tolist().index(dow_time_slice[1].to_numpy().tolist())"
   ]
  },
  {
   "cell_type": "code",
   "execution_count": 70,
   "metadata": {},
   "outputs": [
    {
     "ename": "TypeError",
     "evalue": "DatetimeIndex() must be called with a collection of some kind, Timestamp('2010-11-18 09:36:00') was passed",
     "output_type": "error",
     "traceback": [
      "\u001b[0;31m---------------------------------------------------------------------------\u001b[0m",
      "\u001b[0;31mTypeError\u001b[0m                                 Traceback (most recent call last)",
      "\u001b[0;32m<ipython-input-70-f7b9690edd94>\u001b[0m in \u001b[0;36m<module>\u001b[0;34m\u001b[0m\n\u001b[0;32m----> 1\u001b[0;31m \u001b[0mpd\u001b[0m\u001b[0;34m.\u001b[0m\u001b[0mDatetimeIndex\u001b[0m\u001b[0;34m(\u001b[0m\u001b[0mdow_time_slice\u001b[0m\u001b[0;34m[\u001b[0m\u001b[0;36m0\u001b[0m\u001b[0;34m]\u001b[0m\u001b[0;34m)\u001b[0m\u001b[0;34m\u001b[0m\u001b[0;34m\u001b[0m\u001b[0m\n\u001b[0m",
      "\u001b[0;32m~/.local/lib/python3.6/site-packages/pandas/core/indexes/datetimes.py\u001b[0m in \u001b[0;36m__new__\u001b[0;34m(cls, data, freq, tz, normalize, closed, ambiguous, dayfirst, yearfirst, dtype, copy, name)\u001b[0m\n\u001b[1;32m    235\u001b[0m         \u001b[0;32mif\u001b[0m \u001b[0mis_scalar\u001b[0m\u001b[0;34m(\u001b[0m\u001b[0mdata\u001b[0m\u001b[0;34m)\u001b[0m\u001b[0;34m:\u001b[0m\u001b[0;34m\u001b[0m\u001b[0;34m\u001b[0m\u001b[0m\n\u001b[1;32m    236\u001b[0m             raise TypeError(\n\u001b[0;32m--> 237\u001b[0;31m                 \u001b[0;34mf\"{cls.__name__}() must be called with a \"\u001b[0m\u001b[0;34m\u001b[0m\u001b[0;34m\u001b[0m\u001b[0m\n\u001b[0m\u001b[1;32m    238\u001b[0m                 \u001b[0;34mf\"collection of some kind, {repr(data)} was passed\"\u001b[0m\u001b[0;34m\u001b[0m\u001b[0;34m\u001b[0m\u001b[0m\n\u001b[1;32m    239\u001b[0m             )\n",
      "\u001b[0;31mTypeError\u001b[0m: DatetimeIndex() must be called with a collection of some kind, Timestamp('2010-11-18 09:36:00') was passed"
     ]
    }
   ],
   "source": [
    "pd.DatetimeIndex(dow_time_slice[0])"
   ]
  },
  {
   "cell_type": "code",
   "execution_count": 5,
   "metadata": {
    "scrolled": false
   },
   "outputs": [
    {
     "data": {
      "text/plain": [
       "[Timestamp('2010-11-18 09:36:00'), Timestamp('2020-06-05 19:44:00')]"
      ]
     },
     "execution_count": 5,
     "metadata": {},
     "output_type": "execute_result"
    }
   ],
   "source": [
    "dow_time_slice"
   ]
  },
  {
   "cell_type": "code",
   "execution_count": 8,
   "metadata": {
    "scrolled": false
   },
   "outputs": [
    {
     "data": {
      "text/plain": [
       "[Timestamp('2009-06-25 09:40:00'), Timestamp('2020-06-05 17:38:00')]"
      ]
     },
     "execution_count": 8,
     "metadata": {},
     "output_type": "execute_result"
    }
   ],
   "source": [
    "etf_time_slice"
   ]
  },
  {
   "cell_type": "code",
   "execution_count": 64,
   "metadata": {},
   "outputs": [
    {
     "ename": "NameError",
     "evalue": "name 'Timestamp' is not defined",
     "output_type": "error",
     "traceback": [
      "\u001b[0;31m---------------------------------------------------------------------------\u001b[0m",
      "\u001b[0;31mNameError\u001b[0m                                 Traceback (most recent call last)",
      "\u001b[0;32m<ipython-input-64-286e9a072873>\u001b[0m in \u001b[0;36m<module>\u001b[0;34m\u001b[0m\n\u001b[0;32m----> 1\u001b[0;31m \u001b[0;34m[\u001b[0m\u001b[0mTimestamp\u001b[0m\u001b[0;34m(\u001b[0m\u001b[0;34m'2010-11-18 09:36:00'\u001b[0m\u001b[0;34m)\u001b[0m\u001b[0;34m,\u001b[0m \u001b[0mTimestamp\u001b[0m\u001b[0;34m(\u001b[0m\u001b[0;34m'2020-06-05 19:44:00'\u001b[0m\u001b[0;34m)\u001b[0m\u001b[0;34m]\u001b[0m\u001b[0;34m\u001b[0m\u001b[0;34m\u001b[0m\u001b[0m\n\u001b[0m\u001b[1;32m      2\u001b[0m \u001b[0;34m[\u001b[0m\u001b[0mTimestamp\u001b[0m\u001b[0;34m(\u001b[0m\u001b[0;34m'2009-06-25 09:40:00'\u001b[0m\u001b[0;34m)\u001b[0m\u001b[0;34m,\u001b[0m \u001b[0mTimestamp\u001b[0m\u001b[0;34m(\u001b[0m\u001b[0;34m'2020-06-05 17:38:00'\u001b[0m\u001b[0;34m)\u001b[0m\u001b[0;34m]\u001b[0m\u001b[0;34m\u001b[0m\u001b[0;34m\u001b[0m\u001b[0m\n",
      "\u001b[0;31mNameError\u001b[0m: name 'Timestamp' is not defined"
     ]
    }
   ],
   "source": [
    "[Timestamp('2010-11-18 09:36:00'), Timestamp('2020-06-05 19:44:00')]\n",
    "[Timestamp('2009-06-25 09:40:00'), Timestamp('2020-06-05 17:38:00')]"
   ]
  },
  {
   "cell_type": "code",
   "execution_count": null,
   "metadata": {},
   "outputs": [],
   "source": []
  }
 ],
 "metadata": {
  "kernelspec": {
   "display_name": "Python 3",
   "language": "python",
   "name": "python3"
  },
  "language_info": {
   "codemirror_mode": {
    "name": "ipython",
    "version": 3
   },
   "file_extension": ".py",
   "mimetype": "text/x-python",
   "name": "python",
   "nbconvert_exporter": "python",
   "pygments_lexer": "ipython3",
   "version": "3.6.9"
  }
 },
 "nbformat": 4,
 "nbformat_minor": 2
}
