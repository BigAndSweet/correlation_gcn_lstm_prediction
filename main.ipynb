{
 "cells": [
  {
   "cell_type": "code",
   "execution_count": 1,
   "metadata": {},
   "outputs": [],
   "source": [
    "import pandas as pd\n",
    "from os import listdir\n",
    "from os.path import isfile, join\n",
    "import numpy as np"
   ]
  },
  {
   "cell_type": "code",
   "execution_count": 35,
   "metadata": {},
   "outputs": [],
   "source": [
    "# get data in desirved format\n",
    "dow_files_addr = \"./Data/Dow_30_1_min/\"\n",
    "etf_files_addr = \"./Data/50_ETFs_1min/\"\n",
    "\n",
    "dow_files_names = [f for f in listdir(dow_files_addr)]\n",
    "etf_files_names = [f for f in listdir(etf_files_addr)]\n",
    "\n",
    "dow_names = [f.split(\".\")[0] for f in dow_files_names]\n",
    "etf_names = [f.split(\".\")[0] for f in etf_files_names]\n",
    "\n",
    "dow_dfs = []\n",
    "etf_dfs = []\n",
    "headers = [\"date\", \"time\", \"open_price\", \"close_price\", \"highest_price\", \"lowest_price\", \"volumn\"]\n",
    "dtypes={\"date\": \"str\", \n",
    "    \"time\":\"str\",\n",
    "    \"open_price\": \"float\", \n",
    "    \"highest_price\": \"float\",\n",
    "    \"lowest_price\": \"float\", \n",
    "    \"close_price\": \"float\",\n",
    "    \"volumn\": \"int\"}\n",
    "for dow_name in dow_files_names:\n",
    "    df = pd.read_csv(dow_files_addr + dow_name, sep=\",\",names=headers,dtype=dtypes, header=None)\n",
    "    df[\"datetime\"] = df[\"date\"] + \" \" + df[\"time\"]\n",
    "    df[\"datetime\"] = pd.to_datetime(df[\"datetime\"], format=\"%m/%d/%Y %H:%M\")\n",
    "    dow_dfs.append(df)\n",
    "for etf_name in etf_files_names:\n",
    "    df = pd.read_csv(etf_files_addr + etf_name, sep=\",\",names=headers,dtype=dtypes, header=None)\n",
    "    df[\"datetime\"] = df[\"date\"] + \" \" + df[\"time\"]\n",
    "    df[\"datetime\"] = pd.to_datetime(df[\"datetime\"], format=\"%m/%d/%Y %H:%M\")\n",
    "    etf_dfs.append(df)"
   ]
  },
  {
   "cell_type": "code",
   "execution_count": null,
   "metadata": {
    "scrolled": true
   },
   "outputs": [
    {
     "name": "stderr",
     "output_type": "stream",
     "text": [
      "/usr/lib/python3/dist-packages/ipykernel_launcher.py:2: FutureWarning: The pandas.datetime class is deprecated and will be removed from pandas in a future version. Import from datetime instead.\n",
      "  \n",
      "/usr/lib/python3/dist-packages/ipykernel_launcher.py:3: FutureWarning: The pandas.datetime class is deprecated and will be removed from pandas in a future version. Import from datetime instead.\n",
      "  This is separate from the ipykernel package so we can avoid doing imports until\n"
     ]
    }
   ],
   "source": [
    "# get start and end for both dow and etf\n",
    "dow_time_slice = [pd.datetime.min, pd.datetime.max]\n",
    "etf_time_slice = [pd.datetime.min, pd.datetime.max]\n",
    "for df in dow_dfs:\n",
    "    start = min(df[\"datetime\"])\n",
    "    if start < dow_time_slice[0]:\n",
    "        dow_time_slice[0] = start\n",
    "    end = max(df[\"datetime\"])\n",
    "    if end > dow_time_slice[1]:\n",
    "        dow_time_slice = end\n",
    "for df in etf_dfs:\n",
    "    start = min(df[\"datetime\"])\n",
    "    if start < etf_time_slice[0]:\n",
    "        etf_time_slice[0] = start\n",
    "    end = max(df[\"datetime\"])\n",
    "    if end > etf_time_slice[1]:\n",
    "        etf_time_slice = end\n",
    "\n",
    "    "
   ]
  },
  {
   "cell_type": "code",
   "execution_count": 44,
   "metadata": {},
   "outputs": [
    {
     "name": "stderr",
     "output_type": "stream",
     "text": [
      "/usr/lib/python3/dist-packages/ipykernel_launcher.py:1: FutureWarning: The pandas.datetime class is deprecated and will be removed from pandas in a future version. Import from datetime instead.\n",
      "  \"\"\"Entry point for launching an IPython kernel.\n"
     ]
    },
    {
     "data": {
      "text/plain": [
       "datetime.datetime(1, 1, 1, 0, 0)"
      ]
     },
     "execution_count": 44,
     "metadata": {},
     "output_type": "execute_result"
    }
   ],
   "source": [
    "pd.datetime.min"
   ]
  },
  {
   "cell_type": "code",
   "execution_count": 43,
   "metadata": {
    "scrolled": true
   },
   "outputs": [
    {
     "name": "stderr",
     "output_type": "stream",
     "text": [
      "/usr/lib/python3/dist-packages/ipykernel_launcher.py:1: FutureWarning: The pandas.datetime class is deprecated and will be removed from pandas in a future version. Import from datetime instead.\n",
      "  \"\"\"Entry point for launching an IPython kernel.\n"
     ]
    },
    {
     "data": {
      "text/plain": [
       "datetime.datetime(9999, 12, 31, 23, 59, 59, 999999)"
      ]
     },
     "execution_count": 43,
     "metadata": {},
     "output_type": "execute_result"
    }
   ],
   "source": [
    "pd.datetime.max"
   ]
  },
  {
   "cell_type": "code",
   "execution_count": 36,
   "metadata": {},
   "outputs": [],
   "source": [
    "tmp = dow_dfs[0]"
   ]
  },
  {
   "cell_type": "code",
   "execution_count": 37,
   "metadata": {},
   "outputs": [
    {
     "data": {
      "text/html": [
       "<div>\n",
       "<style scoped>\n",
       "    .dataframe tbody tr th:only-of-type {\n",
       "        vertical-align: middle;\n",
       "    }\n",
       "\n",
       "    .dataframe tbody tr th {\n",
       "        vertical-align: top;\n",
       "    }\n",
       "\n",
       "    .dataframe thead th {\n",
       "        text-align: right;\n",
       "    }\n",
       "</style>\n",
       "<table border=\"1\" class=\"dataframe\">\n",
       "  <thead>\n",
       "    <tr style=\"text-align: right;\">\n",
       "      <th></th>\n",
       "      <th>date</th>\n",
       "      <th>time</th>\n",
       "      <th>open_price</th>\n",
       "      <th>close_price</th>\n",
       "      <th>highest_price</th>\n",
       "      <th>lowest_price</th>\n",
       "      <th>volumn</th>\n",
       "      <th>datetime</th>\n",
       "    </tr>\n",
       "  </thead>\n",
       "  <tbody>\n",
       "    <tr>\n",
       "      <th>0</th>\n",
       "      <td>04/27/2007</td>\n",
       "      <td>10:52</td>\n",
       "      <td>73.72</td>\n",
       "      <td>73.74</td>\n",
       "      <td>73.72</td>\n",
       "      <td>73.74</td>\n",
       "      <td>7405</td>\n",
       "      <td>2007-04-27 10:52:00</td>\n",
       "    </tr>\n",
       "    <tr>\n",
       "      <th>1</th>\n",
       "      <td>04/27/2007</td>\n",
       "      <td>10:53</td>\n",
       "      <td>73.74</td>\n",
       "      <td>73.80</td>\n",
       "      <td>73.74</td>\n",
       "      <td>73.80</td>\n",
       "      <td>2323</td>\n",
       "      <td>2007-04-27 10:53:00</td>\n",
       "    </tr>\n",
       "    <tr>\n",
       "      <th>2</th>\n",
       "      <td>04/27/2007</td>\n",
       "      <td>10:54</td>\n",
       "      <td>73.78</td>\n",
       "      <td>73.80</td>\n",
       "      <td>73.78</td>\n",
       "      <td>73.78</td>\n",
       "      <td>3340</td>\n",
       "      <td>2007-04-27 10:54:00</td>\n",
       "    </tr>\n",
       "    <tr>\n",
       "      <th>3</th>\n",
       "      <td>04/27/2007</td>\n",
       "      <td>10:55</td>\n",
       "      <td>73.78</td>\n",
       "      <td>73.80</td>\n",
       "      <td>73.78</td>\n",
       "      <td>73.80</td>\n",
       "      <td>2904</td>\n",
       "      <td>2007-04-27 10:55:00</td>\n",
       "    </tr>\n",
       "    <tr>\n",
       "      <th>4</th>\n",
       "      <td>04/27/2007</td>\n",
       "      <td>10:56</td>\n",
       "      <td>73.80</td>\n",
       "      <td>73.82</td>\n",
       "      <td>73.78</td>\n",
       "      <td>73.82</td>\n",
       "      <td>5324</td>\n",
       "      <td>2007-04-27 10:56:00</td>\n",
       "    </tr>\n",
       "    <tr>\n",
       "      <th>...</th>\n",
       "      <td>...</td>\n",
       "      <td>...</td>\n",
       "      <td>...</td>\n",
       "      <td>...</td>\n",
       "      <td>...</td>\n",
       "      <td>...</td>\n",
       "      <td>...</td>\n",
       "      <td>...</td>\n",
       "    </tr>\n",
       "    <tr>\n",
       "      <th>1470596</th>\n",
       "      <td>06/05/2020</td>\n",
       "      <td>19:44</td>\n",
       "      <td>12.05</td>\n",
       "      <td>12.05</td>\n",
       "      <td>12.05</td>\n",
       "      <td>12.05</td>\n",
       "      <td>384</td>\n",
       "      <td>2020-06-05 19:44:00</td>\n",
       "    </tr>\n",
       "    <tr>\n",
       "      <th>1470597</th>\n",
       "      <td>06/05/2020</td>\n",
       "      <td>19:52</td>\n",
       "      <td>12.05</td>\n",
       "      <td>12.05</td>\n",
       "      <td>12.05</td>\n",
       "      <td>12.05</td>\n",
       "      <td>416</td>\n",
       "      <td>2020-06-05 19:52:00</td>\n",
       "    </tr>\n",
       "    <tr>\n",
       "      <th>1470598</th>\n",
       "      <td>06/05/2020</td>\n",
       "      <td>19:55</td>\n",
       "      <td>12.04</td>\n",
       "      <td>12.04</td>\n",
       "      <td>12.04</td>\n",
       "      <td>12.04</td>\n",
       "      <td>1791</td>\n",
       "      <td>2020-06-05 19:55:00</td>\n",
       "    </tr>\n",
       "    <tr>\n",
       "      <th>1470599</th>\n",
       "      <td>06/05/2020</td>\n",
       "      <td>19:56</td>\n",
       "      <td>12.00</td>\n",
       "      <td>12.00</td>\n",
       "      <td>12.00</td>\n",
       "      <td>12.00</td>\n",
       "      <td>400</td>\n",
       "      <td>2020-06-05 19:56:00</td>\n",
       "    </tr>\n",
       "    <tr>\n",
       "      <th>1470600</th>\n",
       "      <td>06/05/2020</td>\n",
       "      <td>19:59</td>\n",
       "      <td>12.00</td>\n",
       "      <td>12.00</td>\n",
       "      <td>12.00</td>\n",
       "      <td>12.00</td>\n",
       "      <td>1800</td>\n",
       "      <td>2020-06-05 19:59:00</td>\n",
       "    </tr>\n",
       "  </tbody>\n",
       "</table>\n",
       "<p>1470601 rows × 8 columns</p>\n",
       "</div>"
      ],
      "text/plain": [
       "               date   time  open_price  close_price  highest_price  \\\n",
       "0        04/27/2007  10:52       73.72        73.74          73.72   \n",
       "1        04/27/2007  10:53       73.74        73.80          73.74   \n",
       "2        04/27/2007  10:54       73.78        73.80          73.78   \n",
       "3        04/27/2007  10:55       73.78        73.80          73.78   \n",
       "4        04/27/2007  10:56       73.80        73.82          73.78   \n",
       "...             ...    ...         ...          ...            ...   \n",
       "1470596  06/05/2020  19:44       12.05        12.05          12.05   \n",
       "1470597  06/05/2020  19:52       12.05        12.05          12.05   \n",
       "1470598  06/05/2020  19:55       12.04        12.04          12.04   \n",
       "1470599  06/05/2020  19:56       12.00        12.00          12.00   \n",
       "1470600  06/05/2020  19:59       12.00        12.00          12.00   \n",
       "\n",
       "         lowest_price  volumn            datetime  \n",
       "0               73.74    7405 2007-04-27 10:52:00  \n",
       "1               73.80    2323 2007-04-27 10:53:00  \n",
       "2               73.78    3340 2007-04-27 10:54:00  \n",
       "3               73.80    2904 2007-04-27 10:55:00  \n",
       "4               73.82    5324 2007-04-27 10:56:00  \n",
       "...               ...     ...                 ...  \n",
       "1470596         12.05     384 2020-06-05 19:44:00  \n",
       "1470597         12.05     416 2020-06-05 19:52:00  \n",
       "1470598         12.04    1791 2020-06-05 19:55:00  \n",
       "1470599         12.00     400 2020-06-05 19:56:00  \n",
       "1470600         12.00    1800 2020-06-05 19:59:00  \n",
       "\n",
       "[1470601 rows x 8 columns]"
      ]
     },
     "execution_count": 37,
     "metadata": {},
     "output_type": "execute_result"
    }
   ],
   "source": [
    "tmp"
   ]
  },
  {
   "cell_type": "code",
   "execution_count": 38,
   "metadata": {},
   "outputs": [
    {
     "data": {
      "text/plain": [
       "Timestamp('2007-04-27 10:52:00')"
      ]
     },
     "execution_count": 38,
     "metadata": {},
     "output_type": "execute_result"
    }
   ],
   "source": [
    "min(tmp[\"datetime\"])"
   ]
  },
  {
   "cell_type": "code",
   "execution_count": 39,
   "metadata": {},
   "outputs": [
    {
     "data": {
      "text/plain": [
       "Timestamp('2020-06-05 19:59:00')"
      ]
     },
     "execution_count": 39,
     "metadata": {},
     "output_type": "execute_result"
    }
   ],
   "source": [
    "max(tmp[\"datetime\"])"
   ]
  },
  {
   "cell_type": "code",
   "execution_count": null,
   "metadata": {},
   "outputs": [],
   "source": []
  }
 ],
 "metadata": {
  "kernelspec": {
   "display_name": "Python 3",
   "language": "python",
   "name": "python3"
  },
  "language_info": {
   "codemirror_mode": {
    "name": "ipython",
    "version": 3
   },
   "file_extension": ".py",
   "mimetype": "text/x-python",
   "name": "python",
   "nbconvert_exporter": "python",
   "pygments_lexer": "ipython3",
   "version": "3.6.9"
  }
 },
 "nbformat": 4,
 "nbformat_minor": 2
}
