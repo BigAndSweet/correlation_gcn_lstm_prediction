{
 "cells": [
  {
   "cell_type": "code",
   "execution_count": 4,
   "metadata": {},
   "outputs": [],
   "source": [
    "import pandas as pd\n",
    "from os import listdir\n",
    "from os.path import isfile, join\n",
    "import numpy as np"
   ]
  },
  {
   "cell_type": "code",
   "execution_count": 2,
   "metadata": {
    "scrolled": true
   },
   "outputs": [
    {
     "name": "stdout",
     "output_type": "stream",
     "text": [
      "AA.txt\n",
      "AAPL.txt\n",
      "AXP.txt\n",
      "BA.txt\n",
      "BAC.txt\n",
      "C.txt\n",
      "CAT.txt\n",
      "CSCO.txt\n",
      "CVX.txt\n",
      "DD.txt\n",
      "DIS.txt\n",
      "DOW.txt\n",
      "DWDP.txt\n",
      "GE.txt\n",
      "GM.txt\n",
      "GS.txt\n",
      "HD.txt\n",
      "HON.txt\n",
      "HPQ.txt\n",
      "IBM.txt\n",
      "INTC.txt\n",
      "JNJ.txt\n",
      "JPM.txt\n",
      "KFT.txt\n",
      "KO.txt\n",
      "MCD.txt\n",
      "MDLZ.txt\n",
      "MMM.txt\n",
      "MO.txt\n",
      "MRK.txt\n",
      "MSFT.txt\n",
      "NKE.txt\n",
      "PFE.txt\n",
      "PG.txt\n",
      "PGP.txt\n",
      "RTX.txt\n",
      "T.txt\n",
      "TRV.txt\n",
      "UNH.txt\n",
      "UTX.txt\n",
      "V.txt\n",
      "VZ.txt\n",
      "WBA.txt\n",
      "WMT.txt\n",
      "XOM.txt\n",
      "DIA.txt\n",
      "EEM.txt\n",
      "EFA.txt\n",
      "ERX.txt\n",
      "EWZ.txt\n",
      "FAS.txt\n",
      "FAZ.txt\n",
      "FXE.txt\n",
      "FXI.txt\n",
      "GDX.txt\n",
      "GLD.txt\n",
      "HYG.txt\n",
      "IVV.txt\n",
      "IWF.txt\n",
      "IWM.txt\n",
      "IWO.txt\n",
      "IYR.txt\n",
      "JNK.txt\n",
      "LQD.txt\n",
      "MDY.txt\n",
      "OIH.txt\n",
      "QLD.txt\n",
      "QQQ.txt\n",
      "RSX.txt\n",
      "SDS.txt\n",
      "SH.txt\n",
      "SHY.txt\n",
      "SLV.txt\n",
      "SPY.txt\n",
      "SSO.txt\n",
      "TLT.txt\n",
      "TNA.txt\n",
      "TZA.txt\n",
      "UPRO.txt\n",
      "USO.txt\n",
      "VTI.txt\n",
      "VWO.txt\n",
      "VXX.txt\n",
      "XLB.txt\n",
      "XLE.txt\n",
      "XLF.txt\n",
      "XLI.txt\n",
      "XLK.txt\n",
      "XLP.txt\n",
      "XLU.txt\n",
      "XLV.txt\n",
      "XLY.txt\n",
      "XME.txt\n",
      "XOP.txt\n",
      "XRT.txt\n"
     ]
    }
   ],
   "source": [
    "dow_files_addr = \"./Data/Dow_30_1_min/\"\n",
    "etf_files_addr = \"./Data/50_ETFs_1min/\"\n",
    "\n",
    "dow_files_names = [f for f in listdir(dow_files_addr)]\n",
    "etf_files_names = [f for f in listdir(etf_files_addr)]\n",
    "\n",
    "dow_names = [f.split(\".\")[0] for f in dow_files_names]\n",
    "etf_names = [f.split(\".\")[0] for f in etf_files_names]\n",
    "\n",
    "dow_dfs = []\n",
    "etf_dfs = []\n",
    "headers = [\"date\", \"time\", \"open_price\", \"close_price\", \"highest_price\", \"lowest_price\", \"volumn\"]\n",
    "dtypes={\"date\": \"str\", \n",
    "    \"time\":\"str\",\n",
    "    \"open_price\": \"float\", \n",
    "    \"close_price\": \"float\",\n",
    "    \"highest_price\": \"float\",\n",
    "    \"lowest_price\": \"float\", \n",
    "    \"volumn\": \"int\"}\n",
    "for dow_name in dow_files_names:\n",
    "    print(dow_name)\n",
    "    df = pd.read_csv(dow_files_addr + dow_name, sep=\",\", names=headers,dtype=dtypes, header=None)\n",
    "    dow_dfs.append(df)\n",
    "for etf_name in etf_files_names:\n",
    "    print(etf_name)\n",
    "    df = pd.read_csv(etf_files_addr + etf_name, sep=\",\", names=headers,dtype=dtypes, header=None)\n",
    "    etf_dfs.append(df)"
   ]
  },
  {
   "cell_type": "code",
   "execution_count": 3,
   "metadata": {},
   "outputs": [],
   "source": [
    "dow_files_addr = \"./Data/Dow_30_1_min/\"\n",
    "etf_files_addr = \"./Data/50_ETFs_1min/\"\n",
    "\n",
    "dow_files_names = [f for f in listdir(dow_files_addr)]\n",
    "etf_files_names = [f for f in listdir(etf_files_addr)]\n",
    "\n",
    "dow_names = [f.split(\".\")[0] for f in dow_files_names]\n",
    "etf_names = [f.split(\".\")[0] for f in etf_files_names]\n",
    "\n",
    "dow_dfs = []\n",
    "etf_dfs = []\n",
    "headers = [\"date\", \"time\", \"open_price\", \"close_price\", \"highest_price\", \"lowest_price\", \"volumn\"]\n",
    "dtypes={\"date\": \"str\", \n",
    "    \"time\":\"str\",\n",
    "    \"open_price\": \"float\", \n",
    "    \"close_price\": \"float\",\n",
    "    \"highest_price\": \"float\",\n",
    "    \"lowest_price\": \"float\", \n",
    "    \"volumn\": \"int\"}\n",
    "for dow_name in dow_files_names:\n",
    "    df = pd.read_csv(dow_files_addr + dow_name, sep=\",\", header=None)\n",
    "    dow_dfs.append(df)\n",
    "for etf_name in etf_files_names:\n",
    "    df = pd.read_csv(etf_files_addr + etf_name, sep=\",\", header=None)\n",
    "    etf_dfs.append(df)"
   ]
  },
  {
   "cell_type": "code",
   "execution_count": 73,
   "metadata": {},
   "outputs": [],
   "source": [
    " dtypes={\"date\": \"str\", \n",
    "        \"time\":\"str\",\n",
    "        \"open_price\": \"float\", \n",
    "        \"close_price\": \"float\",\n",
    "        \"highest_price\": \"float\",\n",
    "        \"lowest_price\": \"float\", \n",
    "        \"volumn\": \"int\"}"
   ]
  },
  {
   "cell_type": "code",
   "execution_count": 74,
   "metadata": {},
   "outputs": [],
   "source": [
    "headers = [\"date\", \"time\", \"open_price\", \"close_price\", \"highest_price\", \"lowest_price\", \"volumn\"]"
   ]
  },
  {
   "cell_type": "code",
   "execution_count": null,
   "metadata": {},
   "outputs": [],
   "source": [
    "dateparse = lambda x: pd.datetime.strptime(x, '%m/%d/%Y')"
   ]
  },
  {
   "cell_type": "code",
   "execution_count": null,
   "metadata": {},
   "outputs": [],
   "source": [
    "df = pd.read_csv(\"./Data/Dow_30_1_min/AA.txt\", sep=\",\",names=headers,dtype=dtypes, parse_dates=['date'], date_parser=dateparse, header=None)\n"
   ]
  },
  {
   "cell_type": "code",
   "execution_count": null,
   "metadata": {},
   "outputs": [],
   "source": [
    "df"
   ]
  },
  {
   "cell_type": "code",
   "execution_count": null,
   "metadata": {},
   "outputs": [],
   "source": [
    "df.dtypes"
   ]
  },
  {
   "cell_type": "code",
   "execution_count": null,
   "metadata": {},
   "outputs": [],
   "source": []
  }
 ],
 "metadata": {
  "kernelspec": {
   "display_name": "Python 3",
   "language": "python",
   "name": "python3"
  },
  "language_info": {
   "codemirror_mode": {
    "name": "ipython",
    "version": 3
   },
   "file_extension": ".py",
   "mimetype": "text/x-python",
   "name": "python",
   "nbconvert_exporter": "python",
   "pygments_lexer": "ipython3",
   "version": "3.6.9"
  }
 },
 "nbformat": 4,
 "nbformat_minor": 2
}
