{
 "cells": [
  {
   "cell_type": "code",
   "execution_count": 60,
   "metadata": {},
   "outputs": [],
   "source": [
    "import pandas as pd\n",
    "from os import listdir\n",
    "from os.path import isfile, join\n",
    "import numpy as np"
   ]
  },
  {
   "cell_type": "code",
   "execution_count": 61,
   "metadata": {},
   "outputs": [
    {
     "name": "stdout",
     "output_type": "stream",
     "text": [
      "Start read dow file...\n",
      "Finish read dow file.\n",
      "---------------------\n",
      "Start read etf file...\n",
      "Finish read etf file.\n"
     ]
    }
   ],
   "source": [
    "# get data in desirved format\n",
    "dow_files_addr = \"./Data/Dow_30_1_min/\"\n",
    "etf_files_addr = \"./Data/50_ETFs_1min/\"\n",
    "\n",
    "dow_files_names = [f for f in listdir(dow_files_addr)]\n",
    "etf_files_names = [f for f in listdir(etf_files_addr)]\n",
    "\n",
    "dow_names = [f.split(\".\")[0] for f in dow_files_names]\n",
    "etf_names = [f.split(\".\")[0] for f in etf_files_names]\n",
    "\n",
    "dow_dfs = []\n",
    "etf_dfs = []\n",
    "headers = [\"date\", \"time\", \"open_price\", \"close_price\", \"highest_price\", \"lowest_price\", \"volumn\"]\n",
    "dtypes={\"date\": \"str\", \n",
    "    \"time\":\"str\",\n",
    "    \"open_price\": \"float\", \n",
    "    \"highest_price\": \"float\",\n",
    "    \"lowest_price\": \"float\", \n",
    "    \"close_price\": \"float\",\n",
    "    \"volumn\": \"int\"}\n",
    "\n",
    "print(\"Start read dow file...\")\n",
    "for dow_name in dow_files_names:\n",
    "    df = pd.read_csv(dow_files_addr + dow_name, sep=\",\",names=headers,dtype=dtypes, header=None)\n",
    "    df[\"datetime\"] = df[\"date\"] + \" \" + df[\"time\"]\n",
    "    df[\"datetime\"] = pd.to_datetime(df[\"datetime\"], format=\"%m/%d/%Y %H:%M\")\n",
    "    df[\"minute\"] = df[\"time\"].str.split(\":\", expand=True)[1].astype(int)\n",
    "    df = df.sort_values(by=[\"datetime\"])\n",
    "    dow_dfs.append(df)\n",
    "print(\"Finish read dow file.\")\n",
    "print(\"---------------------\")\n",
    "print(\"Start read etf file...\")\n",
    "for etf_name in etf_files_names:\n",
    "    df = pd.read_csv(etf_files_addr + etf_name, sep=\",\",names=headers,dtype=dtypes, header=None)\n",
    "    df[\"datetime\"] = df[\"date\"] + \" \" + df[\"time\"]\n",
    "    df[\"datetime\"] = pd.to_datetime(df[\"datetime\"], format=\"%m/%d/%Y %H:%M\")\n",
    "    df[\"minute\"] = df[\"time\"].str.split(\":\", expand=True)[1].astype(int)\n",
    "    df = df.sort_values(by=[\"datetime\"])\n",
    "    etf_dfs.append(df)\n",
    "print(\"Finish read etf file.\")"
   ]
  },
  {
   "cell_type": "code",
   "execution_count": 62,
   "metadata": {
    "scrolled": false
   },
   "outputs": [
    {
     "name": "stdout",
     "output_type": "stream",
     "text": [
      "Start check dow date...\n",
      "start GM.txt\n",
      "2010-11-18 09:36:00\n",
      "end GM.txt\n",
      "2020-06-05 19:44:00\n",
      "Finish check dow date...\n",
      "---------------------\n",
      "Start check etf date...\n",
      "start AAPL.txt\n",
      "2003-04-14 09:32:00\n",
      "end AAPL.txt\n",
      "2020-06-05 19:41:00\n",
      "end AIG.txt\n",
      "2020-06-05 17:38:00\n",
      "start AXP.txt\n",
      "2008-11-19 09:30:00\n",
      "start T.txt\n",
      "2009-06-25 09:40:00\n",
      "Finish check etf date...\n"
     ]
    }
   ],
   "source": [
    "# get start and end for both dow and etf that cove evey df\n",
    "\n",
    "dow_time_slice = [min(dow_dfs[0][\"datetime\"]), max(dow_dfs[0][\"datetime\"])]\n",
    "etf_time_slice = [min(etf_dfs[0][\"datetime\"]), max(etf_dfs[0][\"datetime\"])]\n",
    "\n",
    "print(\"Start check dow date...\")\n",
    "i = 0\n",
    "for df in dow_dfs:\n",
    "    start = min(df[\"datetime\"])\n",
    "    if start > dow_time_slice[0]:\n",
    "        print(\"start\", dow_files_names[i])\n",
    "        print(start)\n",
    "        dow_time_slice[0] = start\n",
    "    end = max(df[\"datetime\"])\n",
    "    if end < dow_time_slice[1]:\n",
    "        print(\"end\", dow_files_names[i])\n",
    "        print(end)\n",
    "        dow_time_slice[1] = end\n",
    "    i += 1\n",
    "print(\"Finish check dow date...\")\n",
    "print(\"---------------------\")\n",
    "print(\"Start check etf date...\")\n",
    "i = 0\n",
    "for df in etf_dfs:\n",
    "    start = min(df[\"datetime\"])\n",
    "    if start > etf_time_slice[0]:\n",
    "        print(\"start\", dow_files_names[i])\n",
    "        print(start)\n",
    "        etf_time_slice[0] = start\n",
    "    end = max(df[\"datetime\"])\n",
    "    if end < etf_time_slice[1]:\n",
    "        print(\"end\", dow_files_names[i])\n",
    "        print(end)\n",
    "        etf_time_slice[1] = end\n",
    "    i += 1\n",
    "print(\"Finish check etf date...\")"
   ]
  },
  {
   "cell_type": "code",
   "execution_count": 63,
   "metadata": {},
   "outputs": [],
   "source": [
    "# limit all of the df to the same time frames\n",
    "for i in range(len(dow_dfs)):\n",
    "    dow_dfs[i] = dow_dfs[i].loc[(dow_dfs[i][\"datetime\"] >= dow_time_slice[0]) & (dow_dfs[i][\"datetime\"] <= dow_time_slice[1])]\n",
    "for i in range(len(etf_dfs)):\n",
    "    etf_dfs[i] = etf_dfs[i].loc[(etf_dfs[i][\"datetime\"] >= etf_time_slice[0]) & (etf_dfs[i][\"datetime\"] <= etf_time_slice[1])]"
   ]
  },
  {
   "cell_type": "code",
   "execution_count": 9,
   "metadata": {
    "scrolled": false
   },
   "outputs": [
    {
     "data": {
      "text/plain": [
       "[Timestamp('2010-11-18 09:36:00'), Timestamp('2020-06-05 19:44:00')]"
      ]
     },
     "execution_count": 9,
     "metadata": {},
     "output_type": "execute_result"
    }
   ],
   "source": [
    "dow_time_slice"
   ]
  },
  {
   "cell_type": "code",
   "execution_count": 10,
   "metadata": {
    "scrolled": true
   },
   "outputs": [
    {
     "data": {
      "text/plain": [
       "[Timestamp('2009-06-25 09:40:00'), Timestamp('2020-06-05 17:38:00')]"
      ]
     },
     "execution_count": 10,
     "metadata": {},
     "output_type": "execute_result"
    }
   ],
   "source": [
    "etf_time_slice"
   ]
  },
  {
   "cell_type": "code",
   "execution_count": 64,
   "metadata": {},
   "outputs": [
    {
     "ename": "NameError",
     "evalue": "name 'Timestamp' is not defined",
     "output_type": "error",
     "traceback": [
      "\u001b[0;31m---------------------------------------------------------------------------\u001b[0m",
      "\u001b[0;31mNameError\u001b[0m                                 Traceback (most recent call last)",
      "\u001b[0;32m<ipython-input-64-286e9a072873>\u001b[0m in \u001b[0;36m<module>\u001b[0;34m\u001b[0m\n\u001b[0;32m----> 1\u001b[0;31m \u001b[0;34m[\u001b[0m\u001b[0mTimestamp\u001b[0m\u001b[0;34m(\u001b[0m\u001b[0;34m'2010-11-18 09:36:00'\u001b[0m\u001b[0;34m)\u001b[0m\u001b[0;34m,\u001b[0m \u001b[0mTimestamp\u001b[0m\u001b[0;34m(\u001b[0m\u001b[0;34m'2020-06-05 19:44:00'\u001b[0m\u001b[0;34m)\u001b[0m\u001b[0;34m]\u001b[0m\u001b[0;34m\u001b[0m\u001b[0;34m\u001b[0m\u001b[0m\n\u001b[0m\u001b[1;32m      2\u001b[0m \u001b[0;34m[\u001b[0m\u001b[0mTimestamp\u001b[0m\u001b[0;34m(\u001b[0m\u001b[0;34m'2009-06-25 09:40:00'\u001b[0m\u001b[0;34m)\u001b[0m\u001b[0;34m,\u001b[0m \u001b[0mTimestamp\u001b[0m\u001b[0;34m(\u001b[0m\u001b[0;34m'2020-06-05 17:38:00'\u001b[0m\u001b[0;34m)\u001b[0m\u001b[0;34m]\u001b[0m\u001b[0;34m\u001b[0m\u001b[0;34m\u001b[0m\u001b[0m\n",
      "\u001b[0;31mNameError\u001b[0m: name 'Timestamp' is not defined"
     ]
    }
   ],
   "source": [
    "[Timestamp('2010-11-18 09:36:00'), Timestamp('2020-06-05 19:44:00')]\n",
    "[Timestamp('2009-06-25 09:40:00'), Timestamp('2020-06-05 17:38:00')]"
   ]
  },
  {
   "cell_type": "code",
   "execution_count": 56,
   "metadata": {},
   "outputs": [],
   "source": [
    "df = dow_dfs[0]"
   ]
  },
  {
   "cell_type": "code",
   "execution_count": 57,
   "metadata": {
    "scrolled": true
   },
   "outputs": [
    {
     "data": {
      "text/html": [
       "<div>\n",
       "<style scoped>\n",
       "    .dataframe tbody tr th:only-of-type {\n",
       "        vertical-align: middle;\n",
       "    }\n",
       "\n",
       "    .dataframe tbody tr th {\n",
       "        vertical-align: top;\n",
       "    }\n",
       "\n",
       "    .dataframe thead th {\n",
       "        text-align: right;\n",
       "    }\n",
       "</style>\n",
       "<table border=\"1\" class=\"dataframe\">\n",
       "  <thead>\n",
       "    <tr style=\"text-align: right;\">\n",
       "      <th></th>\n",
       "      <th>date</th>\n",
       "      <th>time</th>\n",
       "      <th>open_price</th>\n",
       "      <th>close_price</th>\n",
       "      <th>highest_price</th>\n",
       "      <th>lowest_price</th>\n",
       "      <th>volumn</th>\n",
       "      <th>datetime</th>\n",
       "    </tr>\n",
       "  </thead>\n",
       "  <tbody>\n",
       "    <tr>\n",
       "      <th>1277889</th>\n",
       "      <td>11/18/2010</td>\n",
       "      <td>09:36</td>\n",
       "      <td>36.59</td>\n",
       "      <td>36.68</td>\n",
       "      <td>36.58</td>\n",
       "      <td>36.63</td>\n",
       "      <td>45685</td>\n",
       "      <td>2010-11-18 09:36:00</td>\n",
       "    </tr>\n",
       "    <tr>\n",
       "      <th>1277890</th>\n",
       "      <td>11/18/2010</td>\n",
       "      <td>09:37</td>\n",
       "      <td>36.63</td>\n",
       "      <td>36.64</td>\n",
       "      <td>36.57</td>\n",
       "      <td>36.64</td>\n",
       "      <td>40420</td>\n",
       "      <td>2010-11-18 09:37:00</td>\n",
       "    </tr>\n",
       "    <tr>\n",
       "      <th>1277891</th>\n",
       "      <td>11/18/2010</td>\n",
       "      <td>09:38</td>\n",
       "      <td>36.65</td>\n",
       "      <td>36.65</td>\n",
       "      <td>36.57</td>\n",
       "      <td>36.61</td>\n",
       "      <td>26309</td>\n",
       "      <td>2010-11-18 09:38:00</td>\n",
       "    </tr>\n",
       "    <tr>\n",
       "      <th>1277892</th>\n",
       "      <td>11/18/2010</td>\n",
       "      <td>09:39</td>\n",
       "      <td>36.61</td>\n",
       "      <td>36.62</td>\n",
       "      <td>36.55</td>\n",
       "      <td>36.55</td>\n",
       "      <td>46309</td>\n",
       "      <td>2010-11-18 09:39:00</td>\n",
       "    </tr>\n",
       "    <tr>\n",
       "      <th>1277893</th>\n",
       "      <td>11/18/2010</td>\n",
       "      <td>09:40</td>\n",
       "      <td>36.55</td>\n",
       "      <td>36.56</td>\n",
       "      <td>36.52</td>\n",
       "      <td>36.54</td>\n",
       "      <td>70155</td>\n",
       "      <td>2010-11-18 09:40:00</td>\n",
       "    </tr>\n",
       "    <tr>\n",
       "      <th>...</th>\n",
       "      <td>...</td>\n",
       "      <td>...</td>\n",
       "      <td>...</td>\n",
       "      <td>...</td>\n",
       "      <td>...</td>\n",
       "      <td>...</td>\n",
       "      <td>...</td>\n",
       "      <td>...</td>\n",
       "    </tr>\n",
       "    <tr>\n",
       "      <th>2247188</th>\n",
       "      <td>06/05/2020</td>\n",
       "      <td>18:51</td>\n",
       "      <td>109.36</td>\n",
       "      <td>109.36</td>\n",
       "      <td>109.36</td>\n",
       "      <td>109.36</td>\n",
       "      <td>3537</td>\n",
       "      <td>2020-06-05 18:51:00</td>\n",
       "    </tr>\n",
       "    <tr>\n",
       "      <th>2247189</th>\n",
       "      <td>06/05/2020</td>\n",
       "      <td>18:54</td>\n",
       "      <td>109.95</td>\n",
       "      <td>109.95</td>\n",
       "      <td>109.95</td>\n",
       "      <td>109.95</td>\n",
       "      <td>500</td>\n",
       "      <td>2020-06-05 18:54:00</td>\n",
       "    </tr>\n",
       "    <tr>\n",
       "      <th>2247190</th>\n",
       "      <td>06/05/2020</td>\n",
       "      <td>19:11</td>\n",
       "      <td>109.77</td>\n",
       "      <td>109.77</td>\n",
       "      <td>109.77</td>\n",
       "      <td>109.77</td>\n",
       "      <td>900</td>\n",
       "      <td>2020-06-05 19:11:00</td>\n",
       "    </tr>\n",
       "    <tr>\n",
       "      <th>2247191</th>\n",
       "      <td>06/05/2020</td>\n",
       "      <td>19:15</td>\n",
       "      <td>109.77</td>\n",
       "      <td>109.77</td>\n",
       "      <td>109.77</td>\n",
       "      <td>109.77</td>\n",
       "      <td>423</td>\n",
       "      <td>2020-06-05 19:15:00</td>\n",
       "    </tr>\n",
       "    <tr>\n",
       "      <th>2247192</th>\n",
       "      <td>06/05/2020</td>\n",
       "      <td>19:43</td>\n",
       "      <td>109.88</td>\n",
       "      <td>109.88</td>\n",
       "      <td>109.88</td>\n",
       "      <td>109.88</td>\n",
       "      <td>100</td>\n",
       "      <td>2020-06-05 19:43:00</td>\n",
       "    </tr>\n",
       "  </tbody>\n",
       "</table>\n",
       "<p>969304 rows × 8 columns</p>\n",
       "</div>"
      ],
      "text/plain": [
       "               date   time  open_price  close_price  highest_price  \\\n",
       "1277889  11/18/2010  09:36       36.59        36.68          36.58   \n",
       "1277890  11/18/2010  09:37       36.63        36.64          36.57   \n",
       "1277891  11/18/2010  09:38       36.65        36.65          36.57   \n",
       "1277892  11/18/2010  09:39       36.61        36.62          36.55   \n",
       "1277893  11/18/2010  09:40       36.55        36.56          36.52   \n",
       "...             ...    ...         ...          ...            ...   \n",
       "2247188  06/05/2020  18:51      109.36       109.36         109.36   \n",
       "2247189  06/05/2020  18:54      109.95       109.95         109.95   \n",
       "2247190  06/05/2020  19:11      109.77       109.77         109.77   \n",
       "2247191  06/05/2020  19:15      109.77       109.77         109.77   \n",
       "2247192  06/05/2020  19:43      109.88       109.88         109.88   \n",
       "\n",
       "         lowest_price  volumn            datetime  \n",
       "1277889         36.63   45685 2010-11-18 09:36:00  \n",
       "1277890         36.64   40420 2010-11-18 09:37:00  \n",
       "1277891         36.61   26309 2010-11-18 09:38:00  \n",
       "1277892         36.55   46309 2010-11-18 09:39:00  \n",
       "1277893         36.54   70155 2010-11-18 09:40:00  \n",
       "...               ...     ...                 ...  \n",
       "2247188        109.36    3537 2020-06-05 18:51:00  \n",
       "2247189        109.95     500 2020-06-05 18:54:00  \n",
       "2247190        109.77     900 2020-06-05 19:11:00  \n",
       "2247191        109.77     423 2020-06-05 19:15:00  \n",
       "2247192        109.88     100 2020-06-05 19:43:00  \n",
       "\n",
       "[969304 rows x 8 columns]"
      ]
     },
     "execution_count": 57,
     "metadata": {},
     "output_type": "execute_result"
    }
   ],
   "source": [
    "df"
   ]
  },
  {
   "cell_type": "code",
   "execution_count": 58,
   "metadata": {
    "scrolled": false
   },
   "outputs": [],
   "source": [
    "df[\"time\"] = df[\"time\"].str.split(\":\", expand=True)[1].astype(int)"
   ]
  },
  {
   "cell_type": "code",
   "execution_count": 59,
   "metadata": {},
   "outputs": [
    {
     "data": {
      "text/plain": [
       "1277889    36\n",
       "1277890    37\n",
       "1277891    38\n",
       "1277892    39\n",
       "1277893    40\n",
       "           ..\n",
       "2247188    51\n",
       "2247189    54\n",
       "2247190    11\n",
       "2247191    15\n",
       "2247192    43\n",
       "Name: time, Length: 969304, dtype: int64"
      ]
     },
     "execution_count": 59,
     "metadata": {},
     "output_type": "execute_result"
    }
   ],
   "source": [
    "df[\"time\"]"
   ]
  },
  {
   "cell_type": "code",
   "execution_count": 41,
   "metadata": {},
   "outputs": [
    {
     "ename": "NameError",
     "evalue": "name 'tmp' is not defined",
     "output_type": "error",
     "traceback": [
      "\u001b[0;31m---------------------------------------------------------------------------\u001b[0m",
      "\u001b[0;31mNameError\u001b[0m                                 Traceback (most recent call last)",
      "\u001b[0;32m<ipython-input-41-cf034289f8ba>\u001b[0m in \u001b[0;36m<module>\u001b[0;34m\u001b[0m\n\u001b[0;32m----> 1\u001b[0;31m \u001b[0mtmp\u001b[0m\u001b[0;34m[\u001b[0m\u001b[0;34m\"minute\"\u001b[0m\u001b[0;34m]\u001b[0m \u001b[0;34m=\u001b[0m \u001b[0mtmp\u001b[0m\u001b[0;34m[\u001b[0m\u001b[0;34m\"time\"\u001b[0m\u001b[0;34m]\u001b[0m\u001b[0;34m.\u001b[0m\u001b[0mstr\u001b[0m\u001b[0;34m.\u001b[0m\u001b[0mcontains\u001b[0m\u001b[0;34m(\u001b[0m\u001b[0;34m\":\"\u001b[0m\u001b[0;34m)\u001b[0m\u001b[0;34m\u001b[0m\u001b[0;34m\u001b[0m\u001b[0m\n\u001b[0m",
      "\u001b[0;31mNameError\u001b[0m: name 'tmp' is not defined"
     ]
    }
   ],
   "source": [
    "tmp[\"minute\"] = tmp[\"time\"].str.contains(\":\")"
   ]
  },
  {
   "cell_type": "code",
   "execution_count": 48,
   "metadata": {},
   "outputs": [
    {
     "data": {
      "text/plain": [
       "True"
      ]
     },
     "execution_count": 48,
     "metadata": {},
     "output_type": "execute_result"
    }
   ],
   "source": [
    "1 in tmp[\"minute\"]"
   ]
  },
  {
   "cell_type": "code",
   "execution_count": 50,
   "metadata": {
    "scrolled": true
   },
   "outputs": [
    {
     "data": {
      "text/html": [
       "<div>\n",
       "<style scoped>\n",
       "    .dataframe tbody tr th:only-of-type {\n",
       "        vertical-align: middle;\n",
       "    }\n",
       "\n",
       "    .dataframe tbody tr th {\n",
       "        vertical-align: top;\n",
       "    }\n",
       "\n",
       "    .dataframe thead th {\n",
       "        text-align: right;\n",
       "    }\n",
       "</style>\n",
       "<table border=\"1\" class=\"dataframe\">\n",
       "  <thead>\n",
       "    <tr style=\"text-align: right;\">\n",
       "      <th></th>\n",
       "      <th>date</th>\n",
       "      <th>time</th>\n",
       "      <th>open_price</th>\n",
       "      <th>close_price</th>\n",
       "      <th>highest_price</th>\n",
       "      <th>lowest_price</th>\n",
       "      <th>volumn</th>\n",
       "      <th>datetime</th>\n",
       "      <th>minute</th>\n",
       "    </tr>\n",
       "  </thead>\n",
       "  <tbody>\n",
       "    <tr>\n",
       "      <th>1470600</th>\n",
       "      <td>06/05/2020</td>\n",
       "      <td>19:59</td>\n",
       "      <td>12.00</td>\n",
       "      <td>12.00</td>\n",
       "      <td>12.00</td>\n",
       "      <td>12.00</td>\n",
       "      <td>1800</td>\n",
       "      <td>2020-06-05 19:59:00</td>\n",
       "      <td>True</td>\n",
       "    </tr>\n",
       "    <tr>\n",
       "      <th>1470599</th>\n",
       "      <td>06/05/2020</td>\n",
       "      <td>19:56</td>\n",
       "      <td>12.00</td>\n",
       "      <td>12.00</td>\n",
       "      <td>12.00</td>\n",
       "      <td>12.00</td>\n",
       "      <td>400</td>\n",
       "      <td>2020-06-05 19:56:00</td>\n",
       "      <td>True</td>\n",
       "    </tr>\n",
       "    <tr>\n",
       "      <th>1470598</th>\n",
       "      <td>06/05/2020</td>\n",
       "      <td>19:55</td>\n",
       "      <td>12.04</td>\n",
       "      <td>12.04</td>\n",
       "      <td>12.04</td>\n",
       "      <td>12.04</td>\n",
       "      <td>1791</td>\n",
       "      <td>2020-06-05 19:55:00</td>\n",
       "      <td>True</td>\n",
       "    </tr>\n",
       "    <tr>\n",
       "      <th>1470597</th>\n",
       "      <td>06/05/2020</td>\n",
       "      <td>19:52</td>\n",
       "      <td>12.05</td>\n",
       "      <td>12.05</td>\n",
       "      <td>12.05</td>\n",
       "      <td>12.05</td>\n",
       "      <td>416</td>\n",
       "      <td>2020-06-05 19:52:00</td>\n",
       "      <td>True</td>\n",
       "    </tr>\n",
       "    <tr>\n",
       "      <th>1470596</th>\n",
       "      <td>06/05/2020</td>\n",
       "      <td>19:44</td>\n",
       "      <td>12.05</td>\n",
       "      <td>12.05</td>\n",
       "      <td>12.05</td>\n",
       "      <td>12.05</td>\n",
       "      <td>384</td>\n",
       "      <td>2020-06-05 19:44:00</td>\n",
       "      <td>True</td>\n",
       "    </tr>\n",
       "  </tbody>\n",
       "</table>\n",
       "</div>"
      ],
      "text/plain": [
       "               date   time  open_price  close_price  highest_price  \\\n",
       "1470600  06/05/2020  19:59       12.00        12.00          12.00   \n",
       "1470599  06/05/2020  19:56       12.00        12.00          12.00   \n",
       "1470598  06/05/2020  19:55       12.04        12.04          12.04   \n",
       "1470597  06/05/2020  19:52       12.05        12.05          12.05   \n",
       "1470596  06/05/2020  19:44       12.05        12.05          12.05   \n",
       "\n",
       "         lowest_price  volumn            datetime  minute  \n",
       "1470600         12.00    1800 2020-06-05 19:59:00    True  \n",
       "1470599         12.00     400 2020-06-05 19:56:00    True  \n",
       "1470598         12.04    1791 2020-06-05 19:55:00    True  \n",
       "1470597         12.05     416 2020-06-05 19:52:00    True  \n",
       "1470596         12.05     384 2020-06-05 19:44:00    True  "
      ]
     },
     "execution_count": 50,
     "metadata": {},
     "output_type": "execute_result"
    }
   ],
   "source": [
    ".loc[df['column_name'] == some_value]"
   ]
  },
  {
   "cell_type": "code",
   "execution_count": 52,
   "metadata": {},
   "outputs": [],
   "source": [
    "df[\"minute\"] = df[\"time\"].str.split(\":\")"
   ]
  },
  {
   "cell_type": "code",
   "execution_count": 56,
   "metadata": {},
   "outputs": [
    {
     "data": {
      "text/plain": [
       "'12'"
      ]
     },
     "execution_count": 56,
     "metadata": {},
     "output_type": "execute_result"
    }
   ],
   "source": [
    "df[\"minute\"][0][0]"
   ]
  },
  {
   "cell_type": "code",
   "execution_count": null,
   "metadata": {},
   "outputs": [],
   "source": []
  }
 ],
 "metadata": {
  "kernelspec": {
   "display_name": "Python 3",
   "language": "python",
   "name": "python3"
  },
  "language_info": {
   "codemirror_mode": {
    "name": "ipython",
    "version": 3
   },
   "file_extension": ".py",
   "mimetype": "text/x-python",
   "name": "python",
   "nbconvert_exporter": "python",
   "pygments_lexer": "ipython3",
   "version": "3.6.9"
  }
 },
 "nbformat": 4,
 "nbformat_minor": 2
}
