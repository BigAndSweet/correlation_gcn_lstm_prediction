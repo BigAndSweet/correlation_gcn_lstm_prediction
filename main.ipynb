{
 "cells": [
  {
   "cell_type": "code",
   "execution_count": 45,
   "metadata": {},
   "outputs": [],
   "source": [
    "import pandas as pd\n",
    "from os import listdir\n",
    "from os.path import isfile, join\n",
    "import numpy as np"
   ]
  },
  {
   "cell_type": "code",
   "execution_count": null,
   "metadata": {},
   "outputs": [],
   "source": [
    "dow_files_addr = \"./Data/Dow_30_1_min/\"\n",
    "etf_files_addr = \"./Data/50_ETFs_1min/\"\n",
    "\n",
    "dow_files_names = [f for f in listdir(dow_files_addr)]\n",
    "etf_files_names = [f for f in listdir(etf_files_addr)]\n",
    "\n",
    "dow_names = [f.split(\".\")[0] for f in dow_files_names]\n",
    "etf_names = [f.split(\".\")[0] for f in etf_files_names]\n",
    "\n",
    "dow_dfs = []\n",
    "etf_dfs = []\n",
    "headers = [\"date\", \"time\", \"open_price\", \"close_price\", \"highest_price\", \"lowest_price\", \"volumn\"]\n",
    "dtypes={\"date\": \"str\", \n",
    "    \"time\":\"str\",\n",
    "    \"open_price\": \"float\", \n",
    "    \"close_price\": \"float\",\n",
    "    \"highest_price\": \"float\",\n",
    "    \"lowest_price\": \"float\", \n",
    "    \"volumn\": \"int\"}\n",
    "for dow_name in dow_files_names:\n",
    "    df = pd.read_csv(dow_files_addr + dow_name, sep=\",\", names=headers,dtype=dtypes, header=None)\n",
    "    dow_dfs.append(df)\n",
    "for etf_name in etf_files_names:\n",
    "    df = pd.read_csv(etf_files_addr + etf_name, sep=\",\", names=headers,dtype=dtypes, header=None)\n",
    "    etf_dfs.append(df)"
   ]
  },
  {
   "cell_type": "code",
   "execution_count": 73,
   "metadata": {},
   "outputs": [],
   "source": [
    " dtypes={\"date\": \"str\", \n",
    "        \"time\":\"str\",\n",
    "        \"open_price\": \"float\", \n",
    "        \"close_price\": \"float\",\n",
    "        \"highest_price\": \"float\",\n",
    "        \"lowest_price\": \"float\", \n",
    "        \"volumn\": \"int\"}"
   ]
  },
  {
   "cell_type": "code",
   "execution_count": 74,
   "metadata": {},
   "outputs": [],
   "source": [
    "headers = [\"date\", \"time\", \"open_price\", \"close_price\", \"highest_price\", \"lowest_price\", \"volumn\"]"
   ]
  },
  {
   "cell_type": "code",
   "execution_count": null,
   "metadata": {},
   "outputs": [],
   "source": [
    "dateparse = lambda x: pd.datetime.strptime(x, '%m/%d/%Y')"
   ]
  },
  {
   "cell_type": "code",
   "execution_count": null,
   "metadata": {},
   "outputs": [],
   "source": [
    "df = pd.read_csv(\"./Data/Dow_30_1_min/AA.txt\", sep=\",\",names=headers,dtype=dtypes, parse_dates=['date'], date_parser=dateparse, header=None)\n"
   ]
  },
  {
   "cell_type": "code",
   "execution_count": null,
   "metadata": {},
   "outputs": [],
   "source": [
    "df"
   ]
  },
  {
   "cell_type": "code",
   "execution_count": null,
   "metadata": {},
   "outputs": [],
   "source": [
    "df.dtypes"
   ]
  },
  {
   "cell_type": "code",
   "execution_count": null,
   "metadata": {},
   "outputs": [],
   "source": []
  }
 ],
 "metadata": {
  "kernelspec": {
   "display_name": "Python 3",
   "language": "python",
   "name": "python3"
  },
  "language_info": {
   "codemirror_mode": {
    "name": "ipython",
    "version": 3
   },
   "file_extension": ".py",
   "mimetype": "text/x-python",
   "name": "python",
   "nbconvert_exporter": "python",
   "pygments_lexer": "ipython3",
   "version": "3.6.9"
  }
 },
 "nbformat": 4,
 "nbformat_minor": 2
}
