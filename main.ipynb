{
 "cells": [
  {
   "cell_type": "code",
   "execution_count": 1,
   "metadata": {},
   "outputs": [],
   "source": [
    "import pandas as pd\n",
    "from os import listdir\n",
    "from os.path import isfile, join\n",
    "import numpy as np\n",
    "from datetime import timedelta"
   ]
  },
  {
   "cell_type": "code",
   "execution_count": 2,
   "metadata": {},
   "outputs": [
    {
     "name": "stdout",
     "output_type": "stream",
     "text": [
      "Start read dow file...\n",
      "Finish read dow file.\n",
      "---------------------\n",
      "Start read etf file...\n",
      "Finish read etf file.\n"
     ]
    }
   ],
   "source": [
    "# get data in desirved format\n",
    "dow_files_addr = \"./Data/Dow_30_1_min/\"\n",
    "etf_files_addr = \"./Data/50_ETFs_1min/\"\n",
    "\n",
    "dow_files_names = [f for f in listdir(dow_files_addr)]\n",
    "etf_files_names = [f for f in listdir(etf_files_addr)]\n",
    "\n",
    "dow_names = [f.split(\".\")[0] for f in dow_files_names]\n",
    "etf_names = [f.split(\".\")[0] for f in etf_files_names]\n",
    "\n",
    "dow_dfs = []\n",
    "etf_dfs = []\n",
    "headers = [\"date\", \"time\", \"open_price\", \"close_price\", \"highest_price\", \"lowest_price\", \"volumn\"]\n",
    "dtypes={\"date\": \"str\", \n",
    "    \"time\":\"str\",\n",
    "    \"open_price\": \"float\", \n",
    "    \"highest_price\": \"float\",\n",
    "    \"lowest_price\": \"float\", \n",
    "    \"close_price\": \"float\",\n",
    "    \"volumn\": \"int\"}\n",
    "\n",
    "print(\"Start read dow file...\")\n",
    "for dow_name in dow_files_names:\n",
    "    df = pd.read_csv(dow_files_addr + dow_name, sep=\",\",names=headers,dtype=dtypes, header=None)\n",
    "    df[\"datetime\"] = df[\"date\"] + \" \" + df[\"time\"]\n",
    "    df[\"datetime\"] = pd.to_datetime(df[\"datetime\"], format=\"%m/%d/%Y %H:%M\")\n",
    "    df[\"hour\"] = df[\"time\"].str.split(\":\", expand=True)[0].astype(int)\n",
    "    df[\"minute\"] = df[\"time\"].str.split(\":\", expand=True)[1].astype(int)\n",
    "    df = df.sort_values(by=[\"datetime\"])\n",
    "    df = df.drop(columns=[\"date\"])\n",
    "    df = df.drop(columns=[\"time\"])\n",
    "    dow_dfs.append(df)\n",
    "print(\"Finish read dow file.\")\n",
    "print(\"---------------------\")\n",
    "print(\"Start read etf file...\")\n",
    "for etf_name in etf_files_names:\n",
    "    df = pd.read_csv(etf_files_addr + etf_name, sep=\",\",names=headers,dtype=dtypes, header=None)\n",
    "    df[\"datetime\"] = df[\"date\"] + \" \" + df[\"time\"]\n",
    "    df[\"datetime\"] = pd.to_datetime(df[\"datetime\"], format=\"%m/%d/%Y %H:%M\")\n",
    "    df[\"hour\"] = df[\"time\"].str.split(\":\", expand=True)[0].astype(int)\n",
    "    df[\"minute\"] = df[\"time\"].str.split(\":\", expand=True)[1].astype(int)\n",
    "    df = df.sort_values(by=[\"datetime\"])\n",
    "    df = df.drop(columns=[\"date\"])\n",
    "    df = df.drop(columns=[\"time\"])\n",
    "    etf_dfs.append(df)\n",
    "print(\"Finish read etf file.\")"
   ]
  },
  {
   "cell_type": "code",
   "execution_count": 3,
   "metadata": {
    "scrolled": false
   },
   "outputs": [
    {
     "name": "stdout",
     "output_type": "stream",
     "text": [
      "Start check dow date...\n",
      "start GM.txt\n",
      "2010-11-18 09:36:00\n",
      "end GM.txt\n",
      "2020-06-05 19:44:00\n",
      "Finish check dow date...\n",
      "---------------------\n",
      "Start check etf date...\n",
      "start AAPL.txt\n",
      "2003-04-14 09:32:00\n",
      "end AAPL.txt\n",
      "2020-06-05 19:41:00\n",
      "end AIG.txt\n",
      "2020-06-05 17:38:00\n",
      "start AXP.txt\n",
      "2008-11-19 09:30:00\n",
      "start T.txt\n",
      "2009-06-25 09:40:00\n",
      "Finish check etf date...\n"
     ]
    }
   ],
   "source": [
    "# get start and end for both dow and etf that cove evey df\n",
    "\n",
    "dow_time_slice = [min(dow_dfs[0][\"datetime\"]), max(dow_dfs[0][\"datetime\"])]\n",
    "etf_time_slice = [min(etf_dfs[0][\"datetime\"]), max(etf_dfs[0][\"datetime\"])]\n",
    "\n",
    "print(\"Start check dow date...\")\n",
    "i = 0\n",
    "for df in dow_dfs:\n",
    "    start = min(df[\"datetime\"])\n",
    "    if start > dow_time_slice[0]:\n",
    "        print(\"start\", dow_files_names[i])\n",
    "        print(start)\n",
    "        dow_time_slice[0] = start\n",
    "    end = max(df[\"datetime\"])\n",
    "    if end < dow_time_slice[1]:\n",
    "        print(\"end\", dow_files_names[i])\n",
    "        print(end)\n",
    "        dow_time_slice[1] = end\n",
    "    i += 1\n",
    "print(\"Finish check dow date...\")\n",
    "print(\"---------------------\")\n",
    "print(\"Start check etf date...\")\n",
    "i = 0\n",
    "for df in etf_dfs:\n",
    "    start = min(df[\"datetime\"])\n",
    "    if start > etf_time_slice[0]:\n",
    "        print(\"start\", dow_files_names[i])\n",
    "        print(start)\n",
    "        etf_time_slice[0] = start\n",
    "    end = max(df[\"datetime\"])\n",
    "    if end < etf_time_slice[1]:\n",
    "        print(\"end\", dow_files_names[i])\n",
    "        print(end)\n",
    "        etf_time_slice[1] = end\n",
    "    i += 1\n",
    "print(\"Finish check etf date...\")"
   ]
  },
  {
   "cell_type": "code",
   "execution_count": 4,
   "metadata": {},
   "outputs": [],
   "source": [
    "# limit all of the df to the same time frames\n",
    "for i in range(len(dow_dfs)):\n",
    "    dow_dfs[i] = dow_dfs[i].loc[(dow_dfs[i][\"datetime\"] >= dow_time_slice[0]) & (dow_dfs[i][\"datetime\"] <= dow_time_slice[1])]\n",
    "for i in range(len(etf_dfs)):\n",
    "    etf_dfs[i] = etf_dfs[i].loc[(etf_dfs[i][\"datetime\"] >= etf_time_slice[0]) & (etf_dfs[i][\"datetime\"] <= etf_time_slice[1])]"
   ]
  },
  {
   "cell_type": "code",
   "execution_count": 47,
   "metadata": {},
   "outputs": [
    {
     "ename": "IndentationError",
     "evalue": "expected an indented block (<ipython-input-47-ce069ef6c70d>, line 26)",
     "output_type": "error",
     "traceback": [
      "\u001b[0;36m  File \u001b[0;32m\"<ipython-input-47-ce069ef6c70d>\"\u001b[0;36m, line \u001b[0;32m26\u001b[0m\n\u001b[0;31m    df= df.append(pd.DataFrame(np.array([[cur_open_price, cur_close_price, cur_highest_price, cur_lowest_price, 0, cur_time,\u001b[0m\n\u001b[0m     ^\u001b[0m\n\u001b[0;31mIndentationError\u001b[0m\u001b[0;31m:\u001b[0m expected an indented block\n"
     ]
    }
   ],
   "source": [
    "# fill in the missing minutes\n",
    "for i in range(len(dow_dfs)):\n",
    "    cur_open_price = dow_dfs[i].iloc[0][\"open_price\"]\n",
    "    cur_close_price = dow_dfs[i].iloc[0][\"close_price\"]\n",
    "    cur_highest_price = dow_dfs[i].iloc[0][\"highest_price\"]  \n",
    "    cur_lowest_price = dow_dfs[i].iloc[0][\"lowest_price\"]\n",
    "    # cur_volumn = dow_dfs[i].iloc[0][\"volumn\"]\n",
    "    \n",
    "    start_time = dow_time_slice[0]\n",
    "    end_time = dow_time_slice[1]\n",
    "    cur_time = start_time\n",
    "    \n",
    "    headers = [\"open_price\", \"close_price\", \"highest_price\", \"lowest_price\", \"volumn\", \"datetime\", \"hour\", \"minute\"]\n",
    "    df = pd.DataFrame(columns=headers)\n",
    "    while cur_time < end_time:\n",
    "        # if exist\n",
    "        if cur_time in pd.DatetimeIndex(dow_dfs[i][\"datetime\"]):\n",
    "            i = pd.DatetimeIndex(dow_dfs[i][\"datetime\"]).to_numpy().tolist().index(cur_time.to_numpy().tolist())\n",
    "            df = df.append(dow_dfs[i].iloc[j], ignore_index=True)\n",
    "            cur_open_price = dow_dfs[i].iloc[j][\"open_price\"]\n",
    "            cur_close_price = dow_dfs[i].iloc[j][\"close_price\"]    \n",
    "            cur_lowest_price = dow_dfs[i].iloc[j][\"lowest_price\"]\n",
    "            # cur_volumn = dow_dfs[i].iloc[j][\"volumn\"]\n",
    "        # if not exist\n",
    "        else:\n",
    "            df= df.append(pd.DataFrame(np.array([[cur_open_price, cur_close_price, cur_highest_price, cur_lowest_price, 0, cur_time,\n",
    "                                              cur_time.to_pydatetime().hour, cur_time.to_pydatetime().minute]]),\n",
    "                                  columns=headers), ignore_index=True)\n",
    "        # update time\n",
    "        cur_time += timedelta(minutes=1)\n",
    "        if cur_time.to_pydatetime().hour >= 20 and cur_time.to_pydatetime().minute != 0:\n",
    "            cur_time += timedelta(days=1)\n",
    "            cur_time.replace(hour=9, minute=0)"
   ]
  },
  {
   "cell_type": "code",
   "execution_count": 78,
   "metadata": {},
   "outputs": [],
   "source": [
    "tmp = dow_dfs[0].iloc[2:4]\n",
    "tmp = tmp.drop(columns=[\"date\"])\n",
    "tmp = tmp.drop(columns=[\"time\"])"
   ]
  },
  {
   "cell_type": "code",
   "execution_count": 79,
   "metadata": {},
   "outputs": [
    {
     "name": "stdout",
     "output_type": "stream",
     "text": [
      "2010-11-18 09:36:00\n",
      "2010-11-18 09:37:00\n",
      "2010-11-18 09:38:00\n",
      "2010-11-18 09:39:00\n",
      "2010-11-18 09:40:00\n",
      "2010-11-18 09:41:00\n",
      "2010-11-18 09:42:00\n",
      "2010-11-18 09:43:00\n",
      "2010-11-18 09:44:00\n",
      "2010-11-18 09:45:00\n",
      "2010-11-18 09:46:00\n",
      "2010-11-18 09:47:00\n",
      "2010-11-18 09:48:00\n",
      "2010-11-18 09:49:00\n",
      "2010-11-18 09:50:00\n",
      "2010-11-18 09:51:00\n",
      "2010-11-18 09:52:00\n",
      "2010-11-18 09:53:00\n",
      "2010-11-18 09:54:00\n",
      "2010-11-18 09:55:00\n",
      "2010-11-18 09:56:00\n",
      "2010-11-18 09:57:00\n",
      "2010-11-18 09:58:00\n",
      "2010-11-18 09:59:00\n",
      "2010-11-18 10:00:00\n",
      "2010-11-18 10:01:00\n",
      "2010-11-18 10:02:00\n",
      "2010-11-18 10:03:00\n",
      "2010-11-18 10:04:00\n",
      "2010-11-18 10:05:00\n",
      "2010-11-18 10:06:00\n",
      "2010-11-18 10:07:00\n",
      "2010-11-18 10:08:00\n",
      "2010-11-18 10:09:00\n",
      "2010-11-18 10:10:00\n",
      "2010-11-18 10:11:00\n",
      "2010-11-18 10:12:00\n",
      "2010-11-18 10:13:00\n",
      "2010-11-18 10:14:00\n",
      "2010-11-18 10:15:00\n",
      "2010-11-18 10:16:00\n",
      "2010-11-18 10:17:00\n",
      "2010-11-18 10:18:00\n",
      "2010-11-18 10:19:00\n",
      "2010-11-18 10:20:00\n",
      "2010-11-18 10:21:00\n",
      "2010-11-18 10:22:00\n",
      "2010-11-18 10:23:00\n",
      "2010-11-18 10:24:00\n",
      "2010-11-18 10:25:00\n",
      "2010-11-18 10:26:00\n",
      "2010-11-18 10:27:00\n",
      "2010-11-18 10:28:00\n",
      "2010-11-18 10:29:00\n",
      "2010-11-18 10:30:00\n",
      "2010-11-18 10:31:00\n",
      "2010-11-18 10:32:00\n",
      "2010-11-18 10:33:00\n",
      "2010-11-18 10:34:00\n",
      "2010-11-18 10:35:00\n",
      "2010-11-18 10:36:00\n",
      "2010-11-18 10:37:00\n",
      "2010-11-18 10:38:00\n",
      "2010-11-18 10:39:00\n",
      "2010-11-18 10:40:00\n",
      "2010-11-18 10:41:00\n",
      "2010-11-18 10:42:00\n",
      "2010-11-18 10:43:00\n",
      "2010-11-18 10:44:00\n",
      "2010-11-18 10:45:00\n",
      "2010-11-18 10:46:00\n",
      "2010-11-18 10:47:00\n",
      "2010-11-18 10:48:00\n",
      "2010-11-18 10:49:00\n",
      "2010-11-18 10:50:00\n",
      "2010-11-18 10:51:00\n",
      "2010-11-18 10:52:00\n",
      "2010-11-18 10:53:00\n",
      "2010-11-18 10:54:00\n",
      "2010-11-18 10:55:00\n",
      "2010-11-18 10:56:00\n",
      "2010-11-18 10:57:00\n",
      "2010-11-18 10:58:00\n",
      "2010-11-18 10:59:00\n",
      "2010-11-18 11:00:00\n",
      "2010-11-18 11:01:00\n",
      "2010-11-18 11:02:00\n",
      "2010-11-18 11:03:00\n",
      "2010-11-18 11:04:00\n",
      "2010-11-18 11:05:00\n",
      "2010-11-18 11:06:00\n",
      "2010-11-18 11:07:00\n",
      "2010-11-18 11:08:00\n",
      "2010-11-18 11:09:00\n",
      "2010-11-18 11:10:00\n",
      "2010-11-18 11:11:00\n",
      "2010-11-18 11:12:00\n",
      "2010-11-18 11:13:00\n",
      "2010-11-18 11:14:00\n",
      "2010-11-18 11:15:00\n"
     ]
    }
   ],
   "source": [
    "cur_open_price = tmp.iloc[0][\"open_price\"]\n",
    "cur_close_price = tmp.iloc[0][\"close_price\"]\n",
    "cur_highest_price = tmp.iloc[0][\"highest_price\"]  \n",
    "cur_lowest_price = tmp.iloc[0][\"lowest_price\"]\n",
    "# cur_volumn = tmp.iloc[0][\"volumn\"]\n",
    "\n",
    "start_time = dow_time_slice[0]\n",
    "end_time = dow_time_slice[1]\n",
    "cur_time = start_time\n",
    "\n",
    "headers = [\"open_price\", \"close_price\", \"highest_price\", \"lowest_price\", \"volumn\", \"datetime\", \"hour\", \"minute\"]\n",
    "df = pd.DataFrame(columns=headers)\n",
    "for _ in range(100):\n",
    "    print(cur_time)\n",
    "    # if exist\n",
    "    if cur_time in pd.DatetimeIndex(tmp[\"datetime\"]):\n",
    "        j = pd.DatetimeIndex(tmp[\"datetime\"]).to_numpy().tolist().index(cur_time.to_numpy().tolist())\n",
    "        df = df.append(tmp.iloc[j], ignore_index=True)\n",
    "        cur_open_price = tmp.iloc[j][\"open_price\"]\n",
    "        cur_close_price = tmp.iloc[j][\"close_price\"]    \n",
    "        cur_lowest_price = tmp.iloc[j][\"lowest_price\"]\n",
    "        # cur_volumn = tmp.iloc[j][\"volumn\"]\n",
    "    # if not exist\n",
    "    else:\n",
    "        df= df.append(pd.DataFrame(np.array([[cur_open_price, cur_close_price, cur_highest_price, cur_lowest_price, 0, \n",
    "                                              cur_time, cur_time.to_pydatetime().hour, cur_time.to_pydatetime().minute]]),\n",
    "                                  columns=headers), ignore_index=True)\n",
    "    # update time\n",
    "    cur_time += timedelta(minutes=1)\n",
    "    if cur_time.to_pydatetime().hour >= 20 and cur_time.to_pydatetime().minute != 0:\n",
    "        cur_time += timedelta(days=1)\n",
    "        cur_time.replace(hour=9, minute=0)\n"
   ]
  },
  {
   "cell_type": "code",
   "execution_count": 80,
   "metadata": {
    "scrolled": false
   },
   "outputs": [
    {
     "data": {
      "text/html": [
       "<div>\n",
       "<style scoped>\n",
       "    .dataframe tbody tr th:only-of-type {\n",
       "        vertical-align: middle;\n",
       "    }\n",
       "\n",
       "    .dataframe tbody tr th {\n",
       "        vertical-align: top;\n",
       "    }\n",
       "\n",
       "    .dataframe thead th {\n",
       "        text-align: right;\n",
       "    }\n",
       "</style>\n",
       "<table border=\"1\" class=\"dataframe\">\n",
       "  <thead>\n",
       "    <tr style=\"text-align: right;\">\n",
       "      <th></th>\n",
       "      <th>open_price</th>\n",
       "      <th>close_price</th>\n",
       "      <th>highest_price</th>\n",
       "      <th>lowest_price</th>\n",
       "      <th>volumn</th>\n",
       "      <th>datetime</th>\n",
       "      <th>hour</th>\n",
       "      <th>minute</th>\n",
       "    </tr>\n",
       "  </thead>\n",
       "  <tbody>\n",
       "    <tr>\n",
       "      <th>418029</th>\n",
       "      <td>29.87</td>\n",
       "      <td>29.9</td>\n",
       "      <td>29.85</td>\n",
       "      <td>29.85</td>\n",
       "      <td>13885</td>\n",
       "      <td>2010-11-18 09:38:00</td>\n",
       "      <td>9</td>\n",
       "      <td>38</td>\n",
       "    </tr>\n",
       "    <tr>\n",
       "      <th>418030</th>\n",
       "      <td>29.87</td>\n",
       "      <td>29.9</td>\n",
       "      <td>29.81</td>\n",
       "      <td>29.83</td>\n",
       "      <td>39934</td>\n",
       "      <td>2010-11-18 09:39:00</td>\n",
       "      <td>9</td>\n",
       "      <td>39</td>\n",
       "    </tr>\n",
       "  </tbody>\n",
       "</table>\n",
       "</div>"
      ],
      "text/plain": [
       "        open_price  close_price  highest_price  lowest_price  volumn  \\\n",
       "418029       29.87         29.9          29.85         29.85   13885   \n",
       "418030       29.87         29.9          29.81         29.83   39934   \n",
       "\n",
       "                  datetime  hour  minute  \n",
       "418029 2010-11-18 09:38:00     9      38  \n",
       "418030 2010-11-18 09:39:00     9      39  "
      ]
     },
     "execution_count": 80,
     "metadata": {},
     "output_type": "execute_result"
    }
   ],
   "source": [
    "tmp"
   ]
  },
  {
   "cell_type": "code",
   "execution_count": 81,
   "metadata": {},
   "outputs": [
    {
     "data": {
      "text/html": [
       "<div>\n",
       "<style scoped>\n",
       "    .dataframe tbody tr th:only-of-type {\n",
       "        vertical-align: middle;\n",
       "    }\n",
       "\n",
       "    .dataframe tbody tr th {\n",
       "        vertical-align: top;\n",
       "    }\n",
       "\n",
       "    .dataframe thead th {\n",
       "        text-align: right;\n",
       "    }\n",
       "</style>\n",
       "<table border=\"1\" class=\"dataframe\">\n",
       "  <thead>\n",
       "    <tr style=\"text-align: right;\">\n",
       "      <th></th>\n",
       "      <th>open_price</th>\n",
       "      <th>close_price</th>\n",
       "      <th>highest_price</th>\n",
       "      <th>lowest_price</th>\n",
       "      <th>volumn</th>\n",
       "      <th>datetime</th>\n",
       "      <th>hour</th>\n",
       "      <th>minute</th>\n",
       "    </tr>\n",
       "  </thead>\n",
       "  <tbody>\n",
       "    <tr>\n",
       "      <th>0</th>\n",
       "      <td>29.87</td>\n",
       "      <td>29.9</td>\n",
       "      <td>29.85</td>\n",
       "      <td>29.85</td>\n",
       "      <td>0</td>\n",
       "      <td>2010-11-18 09:36:00</td>\n",
       "      <td>9</td>\n",
       "      <td>36</td>\n",
       "    </tr>\n",
       "    <tr>\n",
       "      <th>1</th>\n",
       "      <td>29.87</td>\n",
       "      <td>29.9</td>\n",
       "      <td>29.85</td>\n",
       "      <td>29.85</td>\n",
       "      <td>0</td>\n",
       "      <td>2010-11-18 09:37:00</td>\n",
       "      <td>9</td>\n",
       "      <td>37</td>\n",
       "    </tr>\n",
       "    <tr>\n",
       "      <th>2</th>\n",
       "      <td>29.87</td>\n",
       "      <td>29.9</td>\n",
       "      <td>29.85</td>\n",
       "      <td>29.85</td>\n",
       "      <td>13885</td>\n",
       "      <td>2010-11-18 09:38:00</td>\n",
       "      <td>9</td>\n",
       "      <td>38</td>\n",
       "    </tr>\n",
       "    <tr>\n",
       "      <th>3</th>\n",
       "      <td>29.87</td>\n",
       "      <td>29.9</td>\n",
       "      <td>29.81</td>\n",
       "      <td>29.83</td>\n",
       "      <td>39934</td>\n",
       "      <td>2010-11-18 09:39:00</td>\n",
       "      <td>9</td>\n",
       "      <td>39</td>\n",
       "    </tr>\n",
       "    <tr>\n",
       "      <th>4</th>\n",
       "      <td>29.87</td>\n",
       "      <td>29.9</td>\n",
       "      <td>29.85</td>\n",
       "      <td>29.83</td>\n",
       "      <td>0</td>\n",
       "      <td>2010-11-18 09:40:00</td>\n",
       "      <td>9</td>\n",
       "      <td>40</td>\n",
       "    </tr>\n",
       "    <tr>\n",
       "      <th>...</th>\n",
       "      <td>...</td>\n",
       "      <td>...</td>\n",
       "      <td>...</td>\n",
       "      <td>...</td>\n",
       "      <td>...</td>\n",
       "      <td>...</td>\n",
       "      <td>...</td>\n",
       "      <td>...</td>\n",
       "    </tr>\n",
       "    <tr>\n",
       "      <th>95</th>\n",
       "      <td>29.87</td>\n",
       "      <td>29.9</td>\n",
       "      <td>29.85</td>\n",
       "      <td>29.83</td>\n",
       "      <td>0</td>\n",
       "      <td>2010-11-18 11:11:00</td>\n",
       "      <td>11</td>\n",
       "      <td>11</td>\n",
       "    </tr>\n",
       "    <tr>\n",
       "      <th>96</th>\n",
       "      <td>29.87</td>\n",
       "      <td>29.9</td>\n",
       "      <td>29.85</td>\n",
       "      <td>29.83</td>\n",
       "      <td>0</td>\n",
       "      <td>2010-11-18 11:12:00</td>\n",
       "      <td>11</td>\n",
       "      <td>12</td>\n",
       "    </tr>\n",
       "    <tr>\n",
       "      <th>97</th>\n",
       "      <td>29.87</td>\n",
       "      <td>29.9</td>\n",
       "      <td>29.85</td>\n",
       "      <td>29.83</td>\n",
       "      <td>0</td>\n",
       "      <td>2010-11-18 11:13:00</td>\n",
       "      <td>11</td>\n",
       "      <td>13</td>\n",
       "    </tr>\n",
       "    <tr>\n",
       "      <th>98</th>\n",
       "      <td>29.87</td>\n",
       "      <td>29.9</td>\n",
       "      <td>29.85</td>\n",
       "      <td>29.83</td>\n",
       "      <td>0</td>\n",
       "      <td>2010-11-18 11:14:00</td>\n",
       "      <td>11</td>\n",
       "      <td>14</td>\n",
       "    </tr>\n",
       "    <tr>\n",
       "      <th>99</th>\n",
       "      <td>29.87</td>\n",
       "      <td>29.9</td>\n",
       "      <td>29.85</td>\n",
       "      <td>29.83</td>\n",
       "      <td>0</td>\n",
       "      <td>2010-11-18 11:15:00</td>\n",
       "      <td>11</td>\n",
       "      <td>15</td>\n",
       "    </tr>\n",
       "  </tbody>\n",
       "</table>\n",
       "<p>100 rows × 8 columns</p>\n",
       "</div>"
      ],
      "text/plain": [
       "   open_price close_price highest_price lowest_price volumn  \\\n",
       "0       29.87        29.9         29.85        29.85      0   \n",
       "1       29.87        29.9         29.85        29.85      0   \n",
       "2       29.87        29.9         29.85        29.85  13885   \n",
       "3       29.87        29.9         29.81        29.83  39934   \n",
       "4       29.87        29.9         29.85        29.83      0   \n",
       "..        ...         ...           ...          ...    ...   \n",
       "95      29.87        29.9         29.85        29.83      0   \n",
       "96      29.87        29.9         29.85        29.83      0   \n",
       "97      29.87        29.9         29.85        29.83      0   \n",
       "98      29.87        29.9         29.85        29.83      0   \n",
       "99      29.87        29.9         29.85        29.83      0   \n",
       "\n",
       "              datetime hour minute  \n",
       "0  2010-11-18 09:36:00    9     36  \n",
       "1  2010-11-18 09:37:00    9     37  \n",
       "2  2010-11-18 09:38:00    9     38  \n",
       "3  2010-11-18 09:39:00    9     39  \n",
       "4  2010-11-18 09:40:00    9     40  \n",
       "..                 ...  ...    ...  \n",
       "95 2010-11-18 11:11:00   11     11  \n",
       "96 2010-11-18 11:12:00   11     12  \n",
       "97 2010-11-18 11:13:00   11     13  \n",
       "98 2010-11-18 11:14:00   11     14  \n",
       "99 2010-11-18 11:15:00   11     15  \n",
       "\n",
       "[100 rows x 8 columns]"
      ]
     },
     "execution_count": 81,
     "metadata": {},
     "output_type": "execute_result"
    }
   ],
   "source": [
    "df"
   ]
  },
  {
   "cell_type": "code",
   "execution_count": 32,
   "metadata": {},
   "outputs": [],
   "source": [
    "df = pd.DataFrame(columns=[\"open_price\", \"close_price\", \"highest_price\", \"lowest_price\", \"volumn\", \"datetime\", \"hour\", \"minute\"])"
   ]
  },
  {
   "cell_type": "code",
   "execution_count": 31,
   "metadata": {
    "scrolled": true
   },
   "outputs": [
    {
     "data": {
      "text/plain": [
       "open_price                     29.85\n",
       "close_price                    29.87\n",
       "highest_price                  29.84\n",
       "lowest_price                   29.85\n",
       "volumn                        169113\n",
       "datetime         2010-11-18 09:36:00\n",
       "hour                               9\n",
       "minute                            36\n",
       "Name: 418027, dtype: object"
      ]
     },
     "execution_count": 31,
     "metadata": {},
     "output_type": "execute_result"
    }
   ],
   "source": [
    "tmp.iloc[0]"
   ]
  },
  {
   "cell_type": "code",
   "execution_count": 33,
   "metadata": {},
   "outputs": [],
   "source": [
    "df = df.append(tmp.iloc[j], ignore_index=True)"
   ]
  },
  {
   "cell_type": "code",
   "execution_count": 40,
   "metadata": {},
   "outputs": [
    {
     "data": {
      "text/html": [
       "<div>\n",
       "<style scoped>\n",
       "    .dataframe tbody tr th:only-of-type {\n",
       "        vertical-align: middle;\n",
       "    }\n",
       "\n",
       "    .dataframe tbody tr th {\n",
       "        vertical-align: top;\n",
       "    }\n",
       "\n",
       "    .dataframe thead th {\n",
       "        text-align: right;\n",
       "    }\n",
       "</style>\n",
       "<table border=\"1\" class=\"dataframe\">\n",
       "  <thead>\n",
       "    <tr style=\"text-align: right;\">\n",
       "      <th></th>\n",
       "      <th>0</th>\n",
       "      <th>1</th>\n",
       "      <th>2</th>\n",
       "      <th>3</th>\n",
       "      <th>4</th>\n",
       "      <th>5</th>\n",
       "      <th>6</th>\n",
       "      <th>7</th>\n",
       "      <th>close_price</th>\n",
       "      <th>datetime</th>\n",
       "      <th>highest_price</th>\n",
       "      <th>hour</th>\n",
       "      <th>lowest_price</th>\n",
       "      <th>minute</th>\n",
       "      <th>open_price</th>\n",
       "      <th>volumn</th>\n",
       "    </tr>\n",
       "  </thead>\n",
       "  <tbody>\n",
       "    <tr>\n",
       "      <th>0</th>\n",
       "      <td>NaN</td>\n",
       "      <td>NaN</td>\n",
       "      <td>NaN</td>\n",
       "      <td>NaN</td>\n",
       "      <td>NaN</td>\n",
       "      <td>NaT</td>\n",
       "      <td>NaN</td>\n",
       "      <td>NaN</td>\n",
       "      <td>29.87</td>\n",
       "      <td>2010-11-18 09:36:00</td>\n",
       "      <td>29.84</td>\n",
       "      <td>9</td>\n",
       "      <td>29.85</td>\n",
       "      <td>36</td>\n",
       "      <td>29.85</td>\n",
       "      <td>169113</td>\n",
       "    </tr>\n",
       "    <tr>\n",
       "      <th>1</th>\n",
       "      <td>NaN</td>\n",
       "      <td>NaN</td>\n",
       "      <td>NaN</td>\n",
       "      <td>NaN</td>\n",
       "      <td>NaN</td>\n",
       "      <td>NaT</td>\n",
       "      <td>NaN</td>\n",
       "      <td>NaN</td>\n",
       "      <td>29.92</td>\n",
       "      <td>2010-11-18 09:37:00</td>\n",
       "      <td>29.84</td>\n",
       "      <td>9</td>\n",
       "      <td>29.87</td>\n",
       "      <td>37</td>\n",
       "      <td>29.85</td>\n",
       "      <td>41218</td>\n",
       "    </tr>\n",
       "    <tr>\n",
       "      <th>2</th>\n",
       "      <td>NaN</td>\n",
       "      <td>NaN</td>\n",
       "      <td>NaN</td>\n",
       "      <td>NaN</td>\n",
       "      <td>NaN</td>\n",
       "      <td>NaT</td>\n",
       "      <td>NaN</td>\n",
       "      <td>NaN</td>\n",
       "      <td>29.90</td>\n",
       "      <td>2010-11-18 09:38:00</td>\n",
       "      <td>29.85</td>\n",
       "      <td>9</td>\n",
       "      <td>29.85</td>\n",
       "      <td>38</td>\n",
       "      <td>29.87</td>\n",
       "      <td>13885</td>\n",
       "    </tr>\n",
       "    <tr>\n",
       "      <th>0</th>\n",
       "      <td>29.87</td>\n",
       "      <td>29.9</td>\n",
       "      <td>29.84</td>\n",
       "      <td>29.85</td>\n",
       "      <td>0</td>\n",
       "      <td>2010-11-18 09:39:00</td>\n",
       "      <td>9</td>\n",
       "      <td>36</td>\n",
       "      <td>NaN</td>\n",
       "      <td>NaT</td>\n",
       "      <td>NaN</td>\n",
       "      <td>NaN</td>\n",
       "      <td>NaN</td>\n",
       "      <td>NaN</td>\n",
       "      <td>NaN</td>\n",
       "      <td>NaN</td>\n",
       "    </tr>\n",
       "    <tr>\n",
       "      <th>0</th>\n",
       "      <td>29.87</td>\n",
       "      <td>29.9</td>\n",
       "      <td>29.84</td>\n",
       "      <td>29.85</td>\n",
       "      <td>0</td>\n",
       "      <td>2010-11-18 09:40:00</td>\n",
       "      <td>9</td>\n",
       "      <td>36</td>\n",
       "      <td>NaN</td>\n",
       "      <td>NaT</td>\n",
       "      <td>NaN</td>\n",
       "      <td>NaN</td>\n",
       "      <td>NaN</td>\n",
       "      <td>NaN</td>\n",
       "      <td>NaN</td>\n",
       "      <td>NaN</td>\n",
       "    </tr>\n",
       "    <tr>\n",
       "      <th>...</th>\n",
       "      <td>...</td>\n",
       "      <td>...</td>\n",
       "      <td>...</td>\n",
       "      <td>...</td>\n",
       "      <td>...</td>\n",
       "      <td>...</td>\n",
       "      <td>...</td>\n",
       "      <td>...</td>\n",
       "      <td>...</td>\n",
       "      <td>...</td>\n",
       "      <td>...</td>\n",
       "      <td>...</td>\n",
       "      <td>...</td>\n",
       "      <td>...</td>\n",
       "      <td>...</td>\n",
       "      <td>...</td>\n",
       "    </tr>\n",
       "    <tr>\n",
       "      <th>0</th>\n",
       "      <td>29.87</td>\n",
       "      <td>29.9</td>\n",
       "      <td>29.84</td>\n",
       "      <td>29.85</td>\n",
       "      <td>0</td>\n",
       "      <td>2010-11-18 11:11:00</td>\n",
       "      <td>9</td>\n",
       "      <td>36</td>\n",
       "      <td>NaN</td>\n",
       "      <td>NaT</td>\n",
       "      <td>NaN</td>\n",
       "      <td>NaN</td>\n",
       "      <td>NaN</td>\n",
       "      <td>NaN</td>\n",
       "      <td>NaN</td>\n",
       "      <td>NaN</td>\n",
       "    </tr>\n",
       "    <tr>\n",
       "      <th>0</th>\n",
       "      <td>29.87</td>\n",
       "      <td>29.9</td>\n",
       "      <td>29.84</td>\n",
       "      <td>29.85</td>\n",
       "      <td>0</td>\n",
       "      <td>2010-11-18 11:12:00</td>\n",
       "      <td>9</td>\n",
       "      <td>36</td>\n",
       "      <td>NaN</td>\n",
       "      <td>NaT</td>\n",
       "      <td>NaN</td>\n",
       "      <td>NaN</td>\n",
       "      <td>NaN</td>\n",
       "      <td>NaN</td>\n",
       "      <td>NaN</td>\n",
       "      <td>NaN</td>\n",
       "    </tr>\n",
       "    <tr>\n",
       "      <th>0</th>\n",
       "      <td>29.87</td>\n",
       "      <td>29.9</td>\n",
       "      <td>29.84</td>\n",
       "      <td>29.85</td>\n",
       "      <td>0</td>\n",
       "      <td>2010-11-18 11:13:00</td>\n",
       "      <td>9</td>\n",
       "      <td>36</td>\n",
       "      <td>NaN</td>\n",
       "      <td>NaT</td>\n",
       "      <td>NaN</td>\n",
       "      <td>NaN</td>\n",
       "      <td>NaN</td>\n",
       "      <td>NaN</td>\n",
       "      <td>NaN</td>\n",
       "      <td>NaN</td>\n",
       "    </tr>\n",
       "    <tr>\n",
       "      <th>0</th>\n",
       "      <td>29.87</td>\n",
       "      <td>29.9</td>\n",
       "      <td>29.84</td>\n",
       "      <td>29.85</td>\n",
       "      <td>0</td>\n",
       "      <td>2010-11-18 11:14:00</td>\n",
       "      <td>9</td>\n",
       "      <td>36</td>\n",
       "      <td>NaN</td>\n",
       "      <td>NaT</td>\n",
       "      <td>NaN</td>\n",
       "      <td>NaN</td>\n",
       "      <td>NaN</td>\n",
       "      <td>NaN</td>\n",
       "      <td>NaN</td>\n",
       "      <td>NaN</td>\n",
       "    </tr>\n",
       "    <tr>\n",
       "      <th>0</th>\n",
       "      <td>29.87</td>\n",
       "      <td>29.9</td>\n",
       "      <td>29.84</td>\n",
       "      <td>29.85</td>\n",
       "      <td>0</td>\n",
       "      <td>2010-11-18 11:15:00</td>\n",
       "      <td>9</td>\n",
       "      <td>36</td>\n",
       "      <td>NaN</td>\n",
       "      <td>NaT</td>\n",
       "      <td>NaN</td>\n",
       "      <td>NaN</td>\n",
       "      <td>NaN</td>\n",
       "      <td>NaN</td>\n",
       "      <td>NaN</td>\n",
       "      <td>NaN</td>\n",
       "    </tr>\n",
       "  </tbody>\n",
       "</table>\n",
       "<p>100 rows × 16 columns</p>\n",
       "</div>"
      ],
      "text/plain": [
       "        0     1      2      3    4                   5    6    7  close_price  \\\n",
       "0     NaN   NaN    NaN    NaN  NaN                 NaT  NaN  NaN        29.87   \n",
       "1     NaN   NaN    NaN    NaN  NaN                 NaT  NaN  NaN        29.92   \n",
       "2     NaN   NaN    NaN    NaN  NaN                 NaT  NaN  NaN        29.90   \n",
       "0   29.87  29.9  29.84  29.85    0 2010-11-18 09:39:00    9   36          NaN   \n",
       "0   29.87  29.9  29.84  29.85    0 2010-11-18 09:40:00    9   36          NaN   \n",
       "..    ...   ...    ...    ...  ...                 ...  ...  ...          ...   \n",
       "0   29.87  29.9  29.84  29.85    0 2010-11-18 11:11:00    9   36          NaN   \n",
       "0   29.87  29.9  29.84  29.85    0 2010-11-18 11:12:00    9   36          NaN   \n",
       "0   29.87  29.9  29.84  29.85    0 2010-11-18 11:13:00    9   36          NaN   \n",
       "0   29.87  29.9  29.84  29.85    0 2010-11-18 11:14:00    9   36          NaN   \n",
       "0   29.87  29.9  29.84  29.85    0 2010-11-18 11:15:00    9   36          NaN   \n",
       "\n",
       "              datetime  highest_price hour  lowest_price minute  open_price  \\\n",
       "0  2010-11-18 09:36:00          29.84    9         29.85     36       29.85   \n",
       "1  2010-11-18 09:37:00          29.84    9         29.87     37       29.85   \n",
       "2  2010-11-18 09:38:00          29.85    9         29.85     38       29.87   \n",
       "0                  NaT            NaN  NaN           NaN    NaN         NaN   \n",
       "0                  NaT            NaN  NaN           NaN    NaN         NaN   \n",
       "..                 ...            ...  ...           ...    ...         ...   \n",
       "0                  NaT            NaN  NaN           NaN    NaN         NaN   \n",
       "0                  NaT            NaN  NaN           NaN    NaN         NaN   \n",
       "0                  NaT            NaN  NaN           NaN    NaN         NaN   \n",
       "0                  NaT            NaN  NaN           NaN    NaN         NaN   \n",
       "0                  NaT            NaN  NaN           NaN    NaN         NaN   \n",
       "\n",
       "    volumn  \n",
       "0   169113  \n",
       "1    41218  \n",
       "2    13885  \n",
       "0      NaN  \n",
       "0      NaN  \n",
       "..     ...  \n",
       "0      NaN  \n",
       "0      NaN  \n",
       "0      NaN  \n",
       "0      NaN  \n",
       "0      NaN  \n",
       "\n",
       "[100 rows x 16 columns]"
      ]
     },
     "execution_count": 40,
     "metadata": {},
     "output_type": "execute_result"
    }
   ],
   "source": [
    "df"
   ]
  },
  {
   "cell_type": "code",
   "execution_count": 123,
   "metadata": {},
   "outputs": [],
   "source": [
    "t = dow_time_slice[0]"
   ]
  },
  {
   "cell_type": "code",
   "execution_count": 133,
   "metadata": {},
   "outputs": [
    {
     "data": {
      "text/plain": [
       "Timestamp('2010-11-19 13:36:00')"
      ]
     },
     "execution_count": 133,
     "metadata": {},
     "output_type": "execute_result"
    }
   ],
   "source": [
    "t"
   ]
  },
  {
   "cell_type": "code",
   "execution_count": 132,
   "metadata": {},
   "outputs": [],
   "source": [
    "t += timedelta(hours=28)"
   ]
  },
  {
   "cell_type": "code",
   "execution_count": 131,
   "metadata": {
    "scrolled": true
   },
   "outputs": [
    {
     "data": {
      "text/plain": [
       "Timestamp('2010-11-18 05:36:00')"
      ]
     },
     "execution_count": 131,
     "metadata": {},
     "output_type": "execute_result"
    }
   ],
   "source": [
    "t.replace(hour=5)"
   ]
  },
  {
   "cell_type": "code",
   "execution_count": 140,
   "metadata": {},
   "outputs": [
    {
     "data": {
      "text/plain": [
       "array([ 9, 10, 11, 12, 13, 14, 15, 16, 17, 18, 19,  6,  7,  8,  4,  5, 20,\n",
       "        3, 23, 21, 22,  0,  1])"
      ]
     },
     "execution_count": 140,
     "metadata": {},
     "output_type": "execute_result"
    }
   ],
   "source": [
    "etf_dfs[1][\"hour\"].unique()"
   ]
  },
  {
   "cell_type": "code",
   "execution_count": 116,
   "metadata": {},
   "outputs": [
    {
     "data": {
      "text/plain": [
       "2010"
      ]
     },
     "execution_count": 116,
     "metadata": {},
     "output_type": "execute_result"
    }
   ],
   "source": [
    "dow_time_slice[0].to_pydatetime().year"
   ]
  },
  {
   "cell_type": "code",
   "execution_count": 109,
   "metadata": {
    "scrolled": true
   },
   "outputs": [
    {
     "data": {
      "text/plain": [
       "0"
      ]
     },
     "execution_count": 109,
     "metadata": {},
     "output_type": "execute_result"
    }
   ],
   "source": [
    "pd.DatetimeIndex(df[\"datetime\"]).to_numpy().tolist().index(dow_time_slice[0].to_numpy().tolist())"
   ]
  },
  {
   "cell_type": "code",
   "execution_count": 96,
   "metadata": {},
   "outputs": [
    {
     "data": {
      "text/plain": [
       "Timestamp('2010-11-18 09:36:00')"
      ]
     },
     "execution_count": 96,
     "metadata": {},
     "output_type": "execute_result"
    }
   ],
   "source": [
    "df.iloc[0][\"datetime\"]"
   ]
  },
  {
   "cell_type": "code",
   "execution_count": 93,
   "metadata": {},
   "outputs": [],
   "source": [
    "df = dow_dfs[0]"
   ]
  },
  {
   "cell_type": "code",
   "execution_count": 98,
   "metadata": {
    "scrolled": false
   },
   "outputs": [],
   "source": [
    "tmp = pd.DataFrame(columns=[\"date\", \"time\", \"open_price\", \"close_price\", \"highest_price\", \"lowest_price\", \"volumn\", \"datetime\", \"hour\", \"minute\"])"
   ]
  },
  {
   "cell_type": "code",
   "execution_count": 100,
   "metadata": {
    "scrolled": true
   },
   "outputs": [
    {
     "data": {
      "text/html": [
       "<div>\n",
       "<style scoped>\n",
       "    .dataframe tbody tr th:only-of-type {\n",
       "        vertical-align: middle;\n",
       "    }\n",
       "\n",
       "    .dataframe tbody tr th {\n",
       "        vertical-align: top;\n",
       "    }\n",
       "\n",
       "    .dataframe thead th {\n",
       "        text-align: right;\n",
       "    }\n",
       "</style>\n",
       "<table border=\"1\" class=\"dataframe\">\n",
       "  <thead>\n",
       "    <tr style=\"text-align: right;\">\n",
       "      <th></th>\n",
       "      <th>date</th>\n",
       "      <th>time</th>\n",
       "      <th>open_price</th>\n",
       "      <th>close_price</th>\n",
       "      <th>highest_price</th>\n",
       "      <th>lowest_price</th>\n",
       "      <th>volumn</th>\n",
       "      <th>datetime</th>\n",
       "      <th>hour</th>\n",
       "      <th>minute</th>\n",
       "    </tr>\n",
       "  </thead>\n",
       "  <tbody>\n",
       "  </tbody>\n",
       "</table>\n",
       "</div>"
      ],
      "text/plain": [
       "Empty DataFrame\n",
       "Columns: [date, time, open_price, close_price, highest_price, lowest_price, volumn, datetime, hour, minute]\n",
       "Index: []"
      ]
     },
     "execution_count": 100,
     "metadata": {},
     "output_type": "execute_result"
    }
   ],
   "source": [
    "tmp"
   ]
  },
  {
   "cell_type": "code",
   "execution_count": 106,
   "metadata": {
    "scrolled": true
   },
   "outputs": [],
   "source": [
    "tmp = tmp.append(df.iloc[0], ignore_index=True)"
   ]
  },
  {
   "cell_type": "code",
   "execution_count": 107,
   "metadata": {},
   "outputs": [
    {
     "data": {
      "text/html": [
       "<div>\n",
       "<style scoped>\n",
       "    .dataframe tbody tr th:only-of-type {\n",
       "        vertical-align: middle;\n",
       "    }\n",
       "\n",
       "    .dataframe tbody tr th {\n",
       "        vertical-align: top;\n",
       "    }\n",
       "\n",
       "    .dataframe thead th {\n",
       "        text-align: right;\n",
       "    }\n",
       "</style>\n",
       "<table border=\"1\" class=\"dataframe\">\n",
       "  <thead>\n",
       "    <tr style=\"text-align: right;\">\n",
       "      <th></th>\n",
       "      <th>date</th>\n",
       "      <th>time</th>\n",
       "      <th>open_price</th>\n",
       "      <th>close_price</th>\n",
       "      <th>highest_price</th>\n",
       "      <th>lowest_price</th>\n",
       "      <th>volumn</th>\n",
       "      <th>datetime</th>\n",
       "      <th>hour</th>\n",
       "      <th>minute</th>\n",
       "    </tr>\n",
       "  </thead>\n",
       "  <tbody>\n",
       "    <tr>\n",
       "      <th>0</th>\n",
       "      <td>11/18/2010</td>\n",
       "      <td>09:36</td>\n",
       "      <td>29.85</td>\n",
       "      <td>29.87</td>\n",
       "      <td>29.84</td>\n",
       "      <td>29.85</td>\n",
       "      <td>169113</td>\n",
       "      <td>2010-11-18 09:36:00</td>\n",
       "      <td>9</td>\n",
       "      <td>36</td>\n",
       "    </tr>\n",
       "  </tbody>\n",
       "</table>\n",
       "</div>"
      ],
      "text/plain": [
       "         date   time  open_price  close_price  highest_price  lowest_price  \\\n",
       "0  11/18/2010  09:36       29.85        29.87          29.84         29.85   \n",
       "\n",
       "   volumn            datetime hour minute  \n",
       "0  169113 2010-11-18 09:36:00    9     36  "
      ]
     },
     "execution_count": 107,
     "metadata": {},
     "output_type": "execute_result"
    }
   ],
   "source": [
    "tmp"
   ]
  },
  {
   "cell_type": "code",
   "execution_count": 80,
   "metadata": {},
   "outputs": [
    {
     "data": {
      "text/plain": [
       "True"
      ]
     },
     "execution_count": 80,
     "metadata": {},
     "output_type": "execute_result"
    }
   ],
   "source": [
    "dow_time_slice[0] in pd.DatetimeIndex(df[\"datetime\"])"
   ]
  },
  {
   "cell_type": "code",
   "execution_count": 83,
   "metadata": {},
   "outputs": [
    {
     "data": {
      "text/plain": [
       "numpy.datetime64('2010-11-18T09:36:00.000000000')"
      ]
     },
     "execution_count": 83,
     "metadata": {},
     "output_type": "execute_result"
    }
   ],
   "source": [
    "dow_time_slice[0].to_numpy()"
   ]
  },
  {
   "cell_type": "code",
   "execution_count": 86,
   "metadata": {},
   "outputs": [
    {
     "data": {
      "text/plain": [
       "1052569"
      ]
     },
     "execution_count": 86,
     "metadata": {},
     "output_type": "execute_result"
    }
   ],
   "source": [
    "pd.DatetimeIndex(df[\"datetime\"]).to_numpy().tolist().index(dow_time_slice[1].to_numpy().tolist())"
   ]
  },
  {
   "cell_type": "code",
   "execution_count": 70,
   "metadata": {},
   "outputs": [
    {
     "ename": "TypeError",
     "evalue": "DatetimeIndex() must be called with a collection of some kind, Timestamp('2010-11-18 09:36:00') was passed",
     "output_type": "error",
     "traceback": [
      "\u001b[0;31m---------------------------------------------------------------------------\u001b[0m",
      "\u001b[0;31mTypeError\u001b[0m                                 Traceback (most recent call last)",
      "\u001b[0;32m<ipython-input-70-f7b9690edd94>\u001b[0m in \u001b[0;36m<module>\u001b[0;34m\u001b[0m\n\u001b[0;32m----> 1\u001b[0;31m \u001b[0mpd\u001b[0m\u001b[0;34m.\u001b[0m\u001b[0mDatetimeIndex\u001b[0m\u001b[0;34m(\u001b[0m\u001b[0mdow_time_slice\u001b[0m\u001b[0;34m[\u001b[0m\u001b[0;36m0\u001b[0m\u001b[0;34m]\u001b[0m\u001b[0;34m)\u001b[0m\u001b[0;34m\u001b[0m\u001b[0;34m\u001b[0m\u001b[0m\n\u001b[0m",
      "\u001b[0;32m~/.local/lib/python3.6/site-packages/pandas/core/indexes/datetimes.py\u001b[0m in \u001b[0;36m__new__\u001b[0;34m(cls, data, freq, tz, normalize, closed, ambiguous, dayfirst, yearfirst, dtype, copy, name)\u001b[0m\n\u001b[1;32m    235\u001b[0m         \u001b[0;32mif\u001b[0m \u001b[0mis_scalar\u001b[0m\u001b[0;34m(\u001b[0m\u001b[0mdata\u001b[0m\u001b[0;34m)\u001b[0m\u001b[0;34m:\u001b[0m\u001b[0;34m\u001b[0m\u001b[0;34m\u001b[0m\u001b[0m\n\u001b[1;32m    236\u001b[0m             raise TypeError(\n\u001b[0;32m--> 237\u001b[0;31m                 \u001b[0;34mf\"{cls.__name__}() must be called with a \"\u001b[0m\u001b[0;34m\u001b[0m\u001b[0;34m\u001b[0m\u001b[0m\n\u001b[0m\u001b[1;32m    238\u001b[0m                 \u001b[0;34mf\"collection of some kind, {repr(data)} was passed\"\u001b[0m\u001b[0;34m\u001b[0m\u001b[0;34m\u001b[0m\u001b[0m\n\u001b[1;32m    239\u001b[0m             )\n",
      "\u001b[0;31mTypeError\u001b[0m: DatetimeIndex() must be called with a collection of some kind, Timestamp('2010-11-18 09:36:00') was passed"
     ]
    }
   ],
   "source": [
    "pd.DatetimeIndex(dow_time_slice[0])"
   ]
  },
  {
   "cell_type": "code",
   "execution_count": 5,
   "metadata": {
    "scrolled": false
   },
   "outputs": [
    {
     "data": {
      "text/plain": [
       "[Timestamp('2010-11-18 09:36:00'), Timestamp('2020-06-05 19:44:00')]"
      ]
     },
     "execution_count": 5,
     "metadata": {},
     "output_type": "execute_result"
    }
   ],
   "source": [
    "dow_time_slice"
   ]
  },
  {
   "cell_type": "code",
   "execution_count": 6,
   "metadata": {
    "scrolled": false
   },
   "outputs": [
    {
     "data": {
      "text/plain": [
       "[Timestamp('2009-06-25 09:40:00'), Timestamp('2020-06-05 17:38:00')]"
      ]
     },
     "execution_count": 6,
     "metadata": {},
     "output_type": "execute_result"
    }
   ],
   "source": [
    "etf_time_slice"
   ]
  },
  {
   "cell_type": "code",
   "execution_count": 64,
   "metadata": {},
   "outputs": [
    {
     "ename": "NameError",
     "evalue": "name 'Timestamp' is not defined",
     "output_type": "error",
     "traceback": [
      "\u001b[0;31m---------------------------------------------------------------------------\u001b[0m",
      "\u001b[0;31mNameError\u001b[0m                                 Traceback (most recent call last)",
      "\u001b[0;32m<ipython-input-64-286e9a072873>\u001b[0m in \u001b[0;36m<module>\u001b[0;34m\u001b[0m\n\u001b[0;32m----> 1\u001b[0;31m \u001b[0;34m[\u001b[0m\u001b[0mTimestamp\u001b[0m\u001b[0;34m(\u001b[0m\u001b[0;34m'2010-11-18 09:36:00'\u001b[0m\u001b[0;34m)\u001b[0m\u001b[0;34m,\u001b[0m \u001b[0mTimestamp\u001b[0m\u001b[0;34m(\u001b[0m\u001b[0;34m'2020-06-05 19:44:00'\u001b[0m\u001b[0;34m)\u001b[0m\u001b[0;34m]\u001b[0m\u001b[0;34m\u001b[0m\u001b[0;34m\u001b[0m\u001b[0m\n\u001b[0m\u001b[1;32m      2\u001b[0m \u001b[0;34m[\u001b[0m\u001b[0mTimestamp\u001b[0m\u001b[0;34m(\u001b[0m\u001b[0;34m'2009-06-25 09:40:00'\u001b[0m\u001b[0;34m)\u001b[0m\u001b[0;34m,\u001b[0m \u001b[0mTimestamp\u001b[0m\u001b[0;34m(\u001b[0m\u001b[0;34m'2020-06-05 17:38:00'\u001b[0m\u001b[0;34m)\u001b[0m\u001b[0;34m]\u001b[0m\u001b[0;34m\u001b[0m\u001b[0;34m\u001b[0m\u001b[0m\n",
      "\u001b[0;31mNameError\u001b[0m: name 'Timestamp' is not defined"
     ]
    }
   ],
   "source": [
    "[Timestamp('2010-11-18 09:36:00'), Timestamp('2020-06-05 19:44:00')]\n",
    "[Timestamp('2009-06-25 09:40:00'), Timestamp('2020-06-05 17:38:00')]"
   ]
  },
  {
   "cell_type": "code",
   "execution_count": null,
   "metadata": {},
   "outputs": [],
   "source": []
  }
 ],
 "metadata": {
  "kernelspec": {
   "display_name": "Python 3",
   "language": "python",
   "name": "python3"
  },
  "language_info": {
   "codemirror_mode": {
    "name": "ipython",
    "version": 3
   },
   "file_extension": ".py",
   "mimetype": "text/x-python",
   "name": "python",
   "nbconvert_exporter": "python",
   "pygments_lexer": "ipython3",
   "version": "3.6.9"
  }
 },
 "nbformat": 4,
 "nbformat_minor": 2
}
